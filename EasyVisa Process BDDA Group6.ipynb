{
 "cells": [
  {
   "cell_type": "code",
   "execution_count": 4,
   "id": "6fd3558e",
   "metadata": {},
   "outputs": [],
   "source": [
    "# 1.0 Importing libraries\n",
    "import numpy as np\n",
    "\n",
    "# 1.1   For transforming categorical data to integer and to dummy\n",
    "from pyspark.ml.feature import  StringIndexer, OneHotEncoder\n",
    "\n",
    "# 1.2   For collecting all features at one place\n",
    "#       A feature transformer that merges multiple columns into one vector column.\n",
    "from pyspark.ml.feature import VectorAssembler\n",
    "\n",
    "# 1.3 Minmax scaler\n",
    "from pyspark.ml.feature import MinMaxScaler, StandardScaler\n",
    "\n",
    "# 1.4   To execute all transformation operations as pipeline\n",
    "from pyspark.ml import Pipeline\n",
    "\n",
    "# 1.5 Logistic Regression modeling\n",
    "from pyspark.ml.classification import LogisticRegression\n",
    "\n",
    "# 1.6 Parameter grid builder and cross-validator\n",
    "from pyspark.ml.tuning import ParamGridBuilder, CrossValidator\n",
    "\n",
    "# 1.7 Evaluate classification. Default AUC.\n",
    "#     Change parameter 'metricName' for others\n",
    "from pyspark.ml.evaluation import BinaryClassificationEvaluator\n",
    "\n",
    "# 1.8 Misc\n",
    "import time\n"
   ]
  },
  {
   "cell_type": "code",
   "execution_count": 2,
   "id": "85374c81",
   "metadata": {},
   "outputs": [
    {
     "name": "stdout",
     "output_type": "stream",
     "text": [
      "Collecting xgboostNote: you may need to restart the kernel to use updated packages.\n",
      "  Downloading xgboost-1.6.2-py3-none-win_amd64.whl (125.4 MB)\n",
      "Requirement already satisfied: scipy in c:\\users\\nepal\\anaconda3\\lib\\site-packages (from xgboost) (1.5.0)\n",
      "Requirement already satisfied: numpy in c:\\users\\nepal\\anaconda3\\lib\\site-packages (from xgboost) (1.18.5)\n",
      "Installing collected packages: xgboost\n",
      "Successfully installed xgboost-1.6.2\n",
      "\n"
     ]
    }
   ],
   "source": [
    "pip install xgboost"
   ]
  },
  {
   "cell_type": "code",
   "execution_count": 4,
   "id": "fa266bae",
   "metadata": {},
   "outputs": [],
   "source": [
    "import warnings\n",
    "warnings.filterwarnings(\"ignore\")\n",
    "\n",
    "import numpy as np   \n",
    "import pandas as pd  \n",
    "\n",
    "import seaborn as sns\n",
    "import matplotlib.pyplot as plt\n",
    "\n",
    "import scipy.stats as stats\n",
    "\n",
    "from sklearn.model_selection import train_test_split\n",
    "from sklearn.tree import DecisionTreeClassifier\n",
    "from sklearn import metrics\n",
    "from sklearn.metrics import confusion_matrix, classification_report, accuracy_score, precision_score, recall_score, f1_score, roc_auc_score\n",
    "from sklearn.model_selection import GridSearchCV\n",
    "\n",
    "from sklearn.ensemble import BaggingClassifier,RandomForestClassifier, GradientBoostingClassifier, AdaBoostClassifier, StackingClassifier\n",
    "from sklearn.model_selection import GridSearchCV\n",
    "from xgboost import XGBClassifier"
   ]
  },
  {
   "cell_type": "markdown",
   "id": "2b4b0958",
   "metadata": {},
   "source": [
    "# File Transfer"
   ]
  },
  {
   "cell_type": "code",
   "execution_count": 5,
   "id": "a6375eb6",
   "metadata": {},
   "outputs": [
    {
     "data": {
      "text/plain": [
       "'\\n\\n\\ncd ~\\nhdfs dfs -rm -r  /user/ashok/data_files/Book6\\nhdfs dfs -mkdir -p /user/ashok/data_files/Book6\\nhdfs dfs -put /home/ashok/Documents/spark/1.basics/Book6.csv /user/ashok/data_files/Book6\\nhdfs dfs -cat /user/ashok/data_files/Book6\\n\\n\\n\\n\\n'"
      ]
     },
     "execution_count": 5,
     "metadata": {},
     "output_type": "execute_result"
    }
   ],
   "source": [
    "# B. Transfer requisite files to hdfs after making a new folder\n",
    "\n",
    "\"\"\"\n",
    "\n",
    "\n",
    "cd ~\n",
    "hdfs dfs -rm -r  /user/ashok/data_files/Book6\n",
    "hdfs dfs -mkdir -p /user/ashok/data_files/Book6\n",
    "hdfs dfs -put /home/ashok/Documents/spark/1.basics/Book6.csv /user/ashok/data_files/Book6\n",
    "hdfs dfs -cat /user/ashok/data_files/Book6\n",
    "\n",
    "\n",
    "\n",
    "\n",
    "\"\"\"\n",
    "\n"
   ]
  },
  {
   "cell_type": "code",
   "execution_count": 6,
   "id": "67c1ad10",
   "metadata": {},
   "outputs": [],
   "source": [
    "\n",
    "\n",
    "from pyspark.sql.functions import col"
   ]
  },
  {
   "cell_type": "code",
   "execution_count": 7,
   "id": "4b80d25b",
   "metadata": {},
   "outputs": [],
   "source": [
    "from pyspark.context import SparkContext\n",
    "from pyspark.sql.session import SparkSession\n"
   ]
  },
  {
   "cell_type": "code",
   "execution_count": 8,
   "id": "344045f1",
   "metadata": {},
   "outputs": [
    {
     "name": "stdout",
     "output_type": "stream",
     "text": [
      "Requirement already satisfied: pyspark in /opt/spark-3.3.0-bin-hadoop3/python (3.3.0)\r\n",
      "Requirement already satisfied: py4j==0.10.9.5 in /home/ashok/anaconda3/lib/python3.9/site-packages (from pyspark) (0.10.9.5)\r\n"
     ]
    }
   ],
   "source": [
    "## C. And then open pyspark, \n",
    "! pip install pyspark\n"
   ]
  },
  {
   "cell_type": "code",
   "execution_count": 9,
   "id": "066076e4",
   "metadata": {},
   "outputs": [
    {
     "data": {
      "text/plain": [
       "\"\\n\\t http://localhost:4040\\n            \\n            \\n\\t Check for parameters (under 'Environment'  tab) such as:\\n\\t \\tspark.master\\n\\t \\tspark.driver.host\\n\\t \\tspark.driver.memory\\n\\n\\tIn local mode there is one jvm for both excutors and drivers\\n    \\n\""
      ]
     },
     "execution_count": 9,
     "metadata": {},
     "output_type": "execute_result"
    }
   ],
   "source": [
    "# D. pyspark configuration UI is avaialble at following URL:\n",
    "\n",
    "\"\"\"\n",
    "\t http://localhost:4040\n",
    "            \n",
    "            \n",
    "\t Check for parameters (under 'Environment'  tab) such as:\n",
    "\t \tspark.master\n",
    "\t \tspark.driver.host\n",
    "\t \tspark.driver.memory\n",
    "\n",
    "\tIn local mode there is one jvm for both excutors and drivers\n",
    "    \n",
    "\"\"\"    "
   ]
  },
  {
   "cell_type": "code",
   "execution_count": 10,
   "id": "96ac4410",
   "metadata": {},
   "outputs": [
    {
     "name": "stderr",
     "output_type": "stream",
     "text": [
      "                                                                                \r"
     ]
    },
    {
     "name": "stdout",
     "output_type": "stream",
     "text": [
      "+-------+---------+---------------------+------------------+---------------------+---------------+-----------+--------------------+---------------+------------+------------------+-----------+\n",
      "|case_id|continent|education_of_employee|has_job_experience|requires_job_training|no_of_employees|yr_of_estab|region_of_employment|prevailing_wage|unit_of_wage|full_time_position|case_status|\n",
      "+-------+---------+---------------------+------------------+---------------------+---------------+-----------+--------------------+---------------+------------+------------------+-----------+\n",
      "| EZYV01|     Asia|          High School|                 N|                    N|          14513|       2007|                West|       592.2029|        Hour|                 Y|     Denied|\n",
      "| EZYV02|     Asia|             Master's|                 Y|                    N|           2412|       2002|           Northeast|       83425.65|        Year|                 Y|  Certified|\n",
      "+-------+---------+---------------------+------------------+---------------------+---------------+-----------+--------------------+---------------+------------+------------------+-----------+\n",
      "only showing top 2 rows\n",
      "\n"
     ]
    },
    {
     "data": {
      "text/plain": [
       "StructType([StructField('case_id', StringType(), True), StructField('continent', StringType(), True), StructField('education_of_employee', StringType(), True), StructField('has_job_experience', StringType(), True), StructField('requires_job_training', StringType(), True), StructField('no_of_employees', IntegerType(), True), StructField('yr_of_estab', IntegerType(), True), StructField('region_of_employment', StringType(), True), StructField('prevailing_wage', DoubleType(), True), StructField('unit_of_wage', StringType(), True), StructField('full_time_position', StringType(), True), StructField('case_status', StringType(), True)])"
      ]
     },
     "execution_count": 10,
     "metadata": {},
     "output_type": "execute_result"
    }
   ],
   "source": [
    "#  Read data\n",
    "#   Read the \"easy visa process\" dataset from spark-sql store ( \"easy visa process\"  database)\n",
    "#      And return the data as a spark DataFrame\n",
    "\n",
    "\n",
    "# Minimum:\n",
    "\n",
    "URL_of_file = \"hdfs://localhost:9000/user/ashok/data_files/Book6/\"\n",
    "df = spark.read.csv(\n",
    "                                        path = URL_of_file + \"Book6.csv\",\n",
    "                                        header = True,\n",
    "                                        inferSchema= True,\n",
    "\t\t\t\t\tsep = \",\" ,                           \t\t\t # Can be any character\n",
    "\t\t\t\t       dateFormat = \"yyyy-mm-dd\"\n",
    ")\n",
    "\n",
    "# 2.0.1\n",
    "df.show(2)\n",
    "df.dtypes\n",
    "df.schema\n"
   ]
  },
  {
   "cell_type": "code",
   "execution_count": 5,
   "id": "b1ccd01d",
   "metadata": {},
   "outputs": [],
   "source": [
    "data=pd.read_csv(\"EasyVisa.csv\")\n"
   ]
  },
  {
   "cell_type": "code",
   "execution_count": 11,
   "id": "9556f238",
   "metadata": {},
   "outputs": [],
   "source": [
    "#  Display multiple command outputs from a cell:\n",
    "\n",
    "from IPython.core.interactiveshell import InteractiveShell\n",
    "InteractiveShell.ast_node_interactivity = \"all\""
   ]
  },
  {
   "cell_type": "code",
   "execution_count": 12,
   "id": "dbe73547",
   "metadata": {},
   "outputs": [
    {
     "name": "stderr",
     "output_type": "stream",
     "text": [
      "/tmp/ipykernel_3288/3743344407.py:3: DeprecationWarning: Importing display from IPython.core.display is deprecated since IPython 7.14, please import from IPython display\n",
      "  from IPython.core.display import display, HTML\n"
     ]
    },
    {
     "data": {
      "text/html": [
       "<style>.container { width:100% !important; }</style>"
      ],
      "text/plain": [
       "<IPython.core.display.HTML object>"
      ]
     },
     "metadata": {},
     "output_type": "display_data"
    }
   ],
   "source": [
    "#Increase display width of notebook:\n",
    "\n",
    "from IPython.core.display import display, HTML\n",
    "display(HTML(\"<style>.container { width:100% !important; }</style>\"))"
   ]
  },
  {
   "cell_type": "code",
   "execution_count": 13,
   "id": "3ce59f01",
   "metadata": {},
   "outputs": [
    {
     "name": "stdout",
     "output_type": "stream",
     "text": [
      "\n",
      "-----Schema----\n",
      "root\n",
      " |-- case_id: string (nullable = true)\n",
      " |-- continent: string (nullable = true)\n",
      " |-- education_of_employee: string (nullable = true)\n",
      " |-- has_job_experience: string (nullable = true)\n",
      " |-- requires_job_training: string (nullable = true)\n",
      " |-- no_of_employees: integer (nullable = true)\n",
      " |-- yr_of_estab: integer (nullable = true)\n",
      " |-- region_of_employment: string (nullable = true)\n",
      " |-- prevailing_wage: double (nullable = true)\n",
      " |-- unit_of_wage: string (nullable = true)\n",
      " |-- full_time_position: string (nullable = true)\n",
      " |-- case_status: string (nullable = true)\n",
      "\n",
      "\n",
      "-----Data types----\n",
      "[('case_id', 'string'), ('continent', 'string'), ('education_of_employee', 'string'), ('has_job_experience', 'string'), ('requires_job_training', 'string'), ('no_of_employees', 'int'), ('yr_of_estab', 'int'), ('region_of_employment', 'string'), ('prevailing_wage', 'double'), ('unit_of_wage', 'string'), ('full_time_position', 'string'), ('case_status', 'string')]\n"
     ]
    }
   ],
   "source": [
    "\n",
    "print(\"\\n-----Schema----\")\n",
    "df.printSchema()\n",
    "print(\"\\n-----Data types----\")\n",
    "print(df.dtypes)"
   ]
  },
  {
   "cell_type": "code",
   "execution_count": 14,
   "id": "8ee52143",
   "metadata": {},
   "outputs": [
    {
     "data": {
      "text/plain": [
       "[Row(case_id='EZYV01', continent='Asia', education_of_employee='High School', has_job_experience='N', requires_job_training='N', no_of_employees=14513, yr_of_estab=2007, region_of_employment='West', prevailing_wage=592.2029, unit_of_wage='Hour', full_time_position='Y', case_status='Denied'),\n",
       " Row(case_id='EZYV02', continent='Asia', education_of_employee=\"Master's\", has_job_experience='Y', requires_job_training='N', no_of_employees=2412, yr_of_estab=2002, region_of_employment='Northeast', prevailing_wage=83425.65, unit_of_wage='Year', full_time_position='Y', case_status='Certified'),\n",
       " Row(case_id='EZYV03', continent='Asia', education_of_employee=\"Bachelor's\", has_job_experience='N', requires_job_training='Y', no_of_employees=44444, yr_of_estab=2008, region_of_employment='West', prevailing_wage=122996.86, unit_of_wage='Year', full_time_position='Y', case_status='Denied')]"
      ]
     },
     "execution_count": 14,
     "metadata": {},
     "output_type": "execute_result"
    },
    {
     "data": {
      "text/plain": [
       "[Row(case_id='EZYV01', continent='Asia', education_of_employee='High School', has_job_experience='N', requires_job_training='N', no_of_employees=14513, yr_of_estab=2007, region_of_employment='West', prevailing_wage=592.2029, unit_of_wage='Hour', full_time_position='Y', case_status='Denied'),\n",
       " Row(case_id='EZYV02', continent='Asia', education_of_employee=\"Master's\", has_job_experience='Y', requires_job_training='N', no_of_employees=2412, yr_of_estab=2002, region_of_employment='Northeast', prevailing_wage=83425.65, unit_of_wage='Year', full_time_position='Y', case_status='Certified'),\n",
       " Row(case_id='EZYV03', continent='Asia', education_of_employee=\"Bachelor's\", has_job_experience='N', requires_job_training='Y', no_of_employees=44444, yr_of_estab=2008, region_of_employment='West', prevailing_wage=122996.86, unit_of_wage='Year', full_time_position='Y', case_status='Denied')]"
      ]
     },
     "execution_count": 14,
     "metadata": {},
     "output_type": "execute_result"
    }
   ],
   "source": [
    "#  take() is same as head()\n",
    "#     Both return a list or Row types\n",
    "\n",
    "df.head(3)\n",
    "df.take(3)"
   ]
  },
  {
   "cell_type": "code",
   "execution_count": 15,
   "id": "642c5295",
   "metadata": {},
   "outputs": [
    {
     "name": "stdout",
     "output_type": "stream",
     "text": [
      "+-----------+\n",
      "|case_status|\n",
      "+-----------+\n",
      "|     Denied|\n",
      "|  Certified|\n",
      "|     Denied|\n",
      "|     Denied|\n",
      "+-----------+\n",
      "only showing top 4 rows\n",
      "\n"
     ]
    }
   ],
   "source": [
    "#  Target columns values:\n",
    "\n",
    "df.select('case_status').show(4)"
   ]
  },
  {
   "cell_type": "code",
   "execution_count": 16,
   "id": "cfd321d4",
   "metadata": {},
   "outputs": [
    {
     "data": {
      "text/plain": [
       "25480"
      ]
     },
     "execution_count": 16,
     "metadata": {},
     "output_type": "execute_result"
    }
   ],
   "source": [
    "#  How many rows are there?\n",
    "#     Output is a scalar and NOT DataFrame\n",
    "\n",
    "df.count()      # 25480"
   ]
  },
  {
   "cell_type": "code",
   "execution_count": 17,
   "id": "f020bc92",
   "metadata": {},
   "outputs": [
    {
     "name": "stderr",
     "output_type": "stream",
     "text": [
      "[Stage 9:>                                                          (0 + 1) / 1]\r"
     ]
    },
    {
     "name": "stdout",
     "output_type": "stream",
     "text": [
      "+-------------+-----+\n",
      "|    continent|count|\n",
      "+-------------+-----+\n",
      "|       Europe| 3732|\n",
      "|       Africa|  551|\n",
      "|North America| 3292|\n",
      "|South America|  852|\n",
      "|      Oceania|  192|\n",
      "|         Asia|16861|\n",
      "+-------------+-----+\n",
      "\n"
     ]
    },
    {
     "name": "stderr",
     "output_type": "stream",
     "text": [
      "                                                                                \r"
     ]
    }
   ],
   "source": [
    "#  Value counts of target\n",
    "\n",
    "dx = df.groupby('continent').count()\n",
    "dx.show()\n"
   ]
  },
  {
   "cell_type": "code",
   "execution_count": 18,
   "id": "a705a24c",
   "metadata": {},
   "outputs": [
    {
     "name": "stderr",
     "output_type": "stream",
     "text": [
      "[Stage 12:>                                                         (0 + 1) / 1]\r"
     ]
    },
    {
     "name": "stdout",
     "output_type": "stream",
     "text": [
      "+-------+--------+-------------+---------------------+------------------+---------------------+------------------+------------------+--------------------+------------------+------------+------------------+-----------+\n",
      "|summary| case_id|    continent|education_of_employee|has_job_experience|requires_job_training|   no_of_employees|       yr_of_estab|region_of_employment|   prevailing_wage|unit_of_wage|full_time_position|case_status|\n",
      "+-------+--------+-------------+---------------------+------------------+---------------------+------------------+------------------+--------------------+------------------+------------+------------------+-----------+\n",
      "|  count|   25480|        25480|                25480|             25480|                25480|             25480|             25480|               25480|             25480|       25480|             25480|      25480|\n",
      "|   mean|    null|         null|                 null|              null|                 null| 5667.043210361067| 1979.409929356358|                null| 74455.81459209221|        null|              null|       null|\n",
      "| stddev|    null|         null|                 null|              null|                 null|22877.928847734496|42.366929101569724|                null|52815.942326873504|        null|              null|       null|\n",
      "|    min|  EZYV01|       Africa|           Bachelor's|                 N|                    N|               -26|              1800|              Island|            2.1367|        Hour|                 N|  Certified|\n",
      "|    max|EZYV9999|South America|             Master's|                 Y|                    Y|            602069|              2016|                West|         319210.27|        Year|                 Y|     Denied|\n",
      "+-------+--------+-------------+---------------------+------------------+---------------------+------------------+------------------+--------------------+------------------+------------+------------------+-----------+\n",
      "\n",
      "\n"
     ]
    },
    {
     "name": "stderr",
     "output_type": "stream",
     "text": [
      "                                                                                \r"
     ]
    }
   ],
   "source": [
    "#  Descibe a summary of dataframe\n",
    "#     or specific columns\n",
    "#     Similar to pandas method\n",
    "\n",
    "df.describe().show()   \n",
    "print()"
   ]
  },
  {
   "cell_type": "code",
   "execution_count": 19,
   "id": "a6a0dad5",
   "metadata": {},
   "outputs": [
    {
     "name": "stdout",
     "output_type": "stream",
     "text": [
      "+-------+------------------+------------------+\n",
      "|summary|   prevailing_wage|   no_of_employees|\n",
      "+-------+------------------+------------------+\n",
      "|  count|             25480|             25480|\n",
      "|   mean| 74455.81459209221| 5667.043210361067|\n",
      "| stddev|52815.942326873504|22877.928847734496|\n",
      "|    min|            2.1367|               -26|\n",
      "|    max|         319210.27|            602069|\n",
      "+-------+------------------+------------------+\n",
      "\n"
     ]
    }
   ],
   "source": [
    "df.describe(['prevailing_wage', 'no_of_employees']).show()"
   ]
  },
  {
   "cell_type": "code",
   "execution_count": 20,
   "id": "46175b76",
   "metadata": {},
   "outputs": [
    {
     "data": {
      "text/plain": [
       "[Row(case_id='EZYV01', continent='Asia', education_of_employee='High School', has_job_experience='N', requires_job_training='N', no_of_employees=14513, yr_of_estab=2007, region_of_employment='West', prevailing_wage=592.2029, unit_of_wage='Hour', full_time_position='Y', case_status='Denied')]"
      ]
     },
     "execution_count": 20,
     "metadata": {},
     "output_type": "execute_result"
    },
    {
     "data": {
      "text/plain": [
       "[Row(case_id='EZYV01', continent='Asia', education_of_employee='High School', has_job_experience='N', requires_job_training='N', no_of_employees=14513, yr_of_estab=2007, region_of_employment='West', prevailing_wage=592.2029, unit_of_wage='Hour', full_time_position='Y', case_status='Denied')]"
      ]
     },
     "execution_count": 20,
     "metadata": {},
     "output_type": "execute_result"
    }
   ],
   "source": [
    "#  Filter for case_status of \"No. of Employees\" and age > 21\n",
    "\n",
    "df.filter(df[\"case_status\"]==\"Denied\").take(1)   \n",
    "df.filter((df[\"case_status\"] == \"Denied\") & (df[\"no_of_employees\"] > 5000) ).take(1)   # use '&' '|'  '~' for 'not'"
   ]
  },
  {
   "cell_type": "markdown",
   "id": "71c8f602",
   "metadata": {},
   "source": [
    "# correlation"
   ]
  },
  {
   "cell_type": "code",
   "execution_count": 23,
   "id": "4dfaf06a",
   "metadata": {},
   "outputs": [
    {
     "data": {
      "text/plain": [
       "-0.00952251836672775"
      ]
     },
     "execution_count": 23,
     "metadata": {},
     "output_type": "execute_result"
    }
   ],
   "source": [
    "\n",
    "df.corr('no_of_employees', 'prevailing_wage')"
   ]
  },
  {
   "cell_type": "markdown",
   "id": "f0b07dfb",
   "metadata": {},
   "source": [
    "## Visualization"
   ]
  },
  {
   "cell_type": "code",
   "execution_count": 6,
   "id": "d8686f36",
   "metadata": {},
   "outputs": [],
   "source": [
    "# function to plot a boxplot and a histogram along the same scale.\n",
    "\n",
    "\n",
    "def histogram_boxplot(data, feature, figsize=(12, 7), kde=False, bins=None):\n",
    "    \"\"\"\n",
    "    Boxplot and histogram combined\n",
    "\n",
    "    data: dataframe\n",
    "    feature: dataframe column\n",
    "    figsize: size of figure (default (12,7))\n",
    "    kde: whether to show the density curve (default False)\n",
    "    bins: number of bins for histogram (default None)\n",
    "    \"\"\"\n",
    "    f2, (ax_box2, ax_hist2) = plt.subplots(\n",
    "        nrows=2,  # Number of rows of the subplot grid= 2\n",
    "        sharex=True,  # x-axis will be shared among all subplots\n",
    "        gridspec_kw={\"height_ratios\": (0.25, 0.75)},\n",
    "        figsize=figsize,\n",
    "    )  # creating the 2 subplots\n",
    "    sns.boxplot(\n",
    "        data=data, x=feature, ax=ax_box2, showmeans=True, color=\"violet\"\n",
    "    )  # boxplot will be created and a star will indicate the mean value of the column\n",
    "    sns.histplot(\n",
    "        data=data, x=feature, kde=kde, ax=ax_hist2, bins=bins, palette=\"winter\"\n",
    "    ) if bins else sns.histplot(\n",
    "        data=data, x=feature, kde=kde, ax=ax_hist2\n",
    "    )  # For histogram\n",
    "    ax_hist2.axvline(\n",
    "        data[feature].mean(), color=\"green\", linestyle=\"--\"\n",
    "    )  # Add mean to the histogram\n",
    "    ax_hist2.axvline(\n",
    "        data[feature].median(), color=\"black\", linestyle=\"-\"\n",
    "    )  # Add median to the histogram"
   ]
  },
  {
   "cell_type": "code",
   "execution_count": 7,
   "id": "f55a749f",
   "metadata": {},
   "outputs": [],
   "source": [
    "#Observations on number_of_employees\n",
    "\n",
    "#Removing negative entries for no_of_employees\n",
    "data.drop(data[(data[\"no_of_employees\"]<=0)].index, inplace=True)"
   ]
  },
  {
   "cell_type": "code",
   "execution_count": 8,
   "id": "add2e3e4",
   "metadata": {},
   "outputs": [
    {
     "data": {
      "text/plain": [
       "(25447, 12)"
      ]
     },
     "execution_count": 8,
     "metadata": {},
     "output_type": "execute_result"
    }
   ],
   "source": [
    "data.shape\n"
   ]
  },
  {
   "cell_type": "code",
   "execution_count": 9,
   "id": "c1241a68",
   "metadata": {},
   "outputs": [
    {
     "data": {
      "image/png": "[encoded data removed]",
      "text/plain": [
       "<Figure size 864x504 with 2 Axes>"
      ]
     },
     "metadata": {
      "needs_background": "light"
     },
     "output_type": "display_data"
    }
   ],
   "source": [
    "histogram_boxplot(data, \"no_of_employees\")\n"
   ]
  },
  {
   "cell_type": "code",
   "execution_count": 10,
   "id": "b9c861a0",
   "metadata": {},
   "outputs": [
    {
     "data": {
      "image/png": "[encoded data removed]",
      "text/plain": [
       "<Figure size 864x504 with 2 Axes>"
      ]
     },
     "metadata": {
      "needs_background": "light"
     },
     "output_type": "display_data"
    }
   ],
   "source": [
    "#Observations on year_of_establishment\n",
    "histogram_boxplot(data, \"yr_of_estab\")\n"
   ]
  },
  {
   "cell_type": "code",
   "execution_count": 11,
   "id": "40444e7b",
   "metadata": {},
   "outputs": [],
   "source": [
    "def labeled_barplot(data, feature, perc=False, n=None):\n",
    "    \"\"\"\n",
    "    Barplot with percentage at the top\n",
    "\n",
    "    data: dataframe\n",
    "    feature: dataframe column\n",
    "    perc: whether to display percentages instead of count (default is False)\n",
    "    n: displays the top n category levels (default is None, i.e., display all levels)\n",
    "    \"\"\"\n",
    "\n",
    "    total = len(data[feature])  # length of the column\n",
    "    count = data[feature].nunique()\n",
    "    if n is None:\n",
    "        plt.figure(figsize=(count + 1, 5))\n",
    "    else:\n",
    "        plt.figure(figsize=(n + 1, 5))\n",
    "\n",
    "    plt.xticks(rotation=90, fontsize=15)\n",
    "    ax = sns.countplot(\n",
    "        data=data,\n",
    "        x=feature,\n",
    "        palette=\"Paired\",\n",
    "        order=data[feature].value_counts().index[:n].sort_values(),\n",
    "    )\n",
    "\n",
    "    for p in ax.patches:\n",
    "        if perc == True:\n",
    "            label = \"{:.1f}%\".format(\n",
    "                100 * p.get_height() / total\n",
    "            )  # percentage of each class of the category\n",
    "        else:\n",
    "            label = p.get_height()  # count of each level of the category\n",
    "\n",
    "        x = p.get_x() + p.get_width() / 2  # width of the plot\n",
    "        y = p.get_height()  # height of the plot\n",
    "\n",
    "        ax.annotate(\n",
    "            label,\n",
    "            (x, y),\n",
    "            ha=\"center\",\n",
    "            va=\"center\",\n",
    "            size=12,\n",
    "            xytext=(0, 5),\n",
    "            textcoords=\"offset points\",\n",
    "        )  # annotate the percentage\n",
    "\n",
    "    plt.show()  # show the plot"
   ]
  },
  {
   "cell_type": "code",
   "execution_count": 12,
   "id": "11027f21",
   "metadata": {},
   "outputs": [
    {
     "data": {
      "image/png": "[encoded data removed]",
      "text/plain": [
       "<Figure size 360x360 with 1 Axes>"
      ]
     },
     "metadata": {
      "needs_background": "light"
     },
     "output_type": "display_data"
    }
   ],
   "source": [
    "labeled_barplot(data, \"unit_of_wage\", perc=True);\n"
   ]
  },
  {
   "cell_type": "code",
   "execution_count": 13,
   "id": "9674b722",
   "metadata": {},
   "outputs": [
    {
     "data": {
      "image/png": "[encoded data removed]",
      "text/plain": [
       "<Figure size 864x504 with 2 Axes>"
      ]
     },
     "metadata": {
      "needs_background": "light"
     },
     "output_type": "display_data"
    }
   ],
   "source": [
    "#Observations specifically on data where unit_of_wage is yearly\n",
    "histogram_boxplot(data[(data[\"unit_of_wage\"]==\"Year\")], \"prevailing_wage\")\n"
   ]
  },
  {
   "cell_type": "code",
   "execution_count": 14,
   "id": "5febfcd7",
   "metadata": {},
   "outputs": [
    {
     "data": {
      "image/png": "[encoded data removed]",
      "text/plain": [
       "<Figure size 864x504 with 2 Axes>"
      ]
     },
     "metadata": {
      "needs_background": "light"
     },
     "output_type": "display_data"
    }
   ],
   "source": [
    "#Observations specifically on data where unit_of_wage is weekly or monthly\n",
    "histogram_boxplot(data[(data[\"unit_of_wage\"]==\"Month\")], \"prevailing_wage\")\n"
   ]
  },
  {
   "cell_type": "code",
   "execution_count": 15,
   "id": "496ed3f0",
   "metadata": {},
   "outputs": [
    {
     "data": {
      "image/png": "[encoded data removed]",
      "text/plain": [
       "<Figure size 864x504 with 2 Axes>"
      ]
     },
     "metadata": {
      "needs_background": "light"
     },
     "output_type": "display_data"
    }
   ],
   "source": [
    "histogram_boxplot(data[(data[\"unit_of_wage\"]==\"Week\")], \"prevailing_wage\")\n"
   ]
  },
  {
   "cell_type": "code",
   "execution_count": 16,
   "id": "34511953",
   "metadata": {},
   "outputs": [],
   "source": [
    "data.loc[data[\"unit_of_wage\"]==\"Hour\", \"prevailing_wage\"] = \\\n",
    "data.loc[data[\"unit_of_wage\"]==\"Hour\", \"prevailing_wage\"]*52\n",
    "# assuming 52 paid weeks per year\n"
   ]
  },
  {
   "cell_type": "code",
   "execution_count": 17,
   "id": "8acaf721",
   "metadata": {},
   "outputs": [],
   "source": [
    "data[\"unit_of_wage\"] = data[\"unit_of_wage\"].astype('object')\n",
    "data.loc[data[\"unit_of_wage\"]==\"Hour\", \"unit_of_wage\"] = \"Hourly\"\n",
    "data.loc[data[\"unit_of_wage\"]==\"Week\", \"unit_of_wage\"] = \"Not_Hourly\"\n",
    "data.loc[data[\"unit_of_wage\"]==\"Month\", \"unit_of_wage\"] = \"Not_Hourly\"\n",
    "data.loc[data[\"unit_of_wage\"]==\"Year\", \"unit_of_wage\"] = \"Not_Hourly\"\n",
    "data[\"unit_of_wage\"] = data[\"unit_of_wage\"].astype('category')"
   ]
  },
  {
   "cell_type": "code",
   "execution_count": 18,
   "id": "0e27d921",
   "metadata": {},
   "outputs": [
    {
     "data": {
      "image/png": "[encoded data removed]",
      "text/plain": [
       "<Figure size 216x360 with 1 Axes>"
      ]
     },
     "metadata": {
      "needs_background": "light"
     },
     "output_type": "display_data"
    }
   ],
   "source": [
    "labeled_barplot(data, \"unit_of_wage\", perc=True)\n"
   ]
  },
  {
   "cell_type": "code",
   "execution_count": 19,
   "id": "fedf18cf",
   "metadata": {},
   "outputs": [
    {
     "data": {
      "image/png": "[encoded data removed]",
      "text/plain": [
       "<Figure size 864x504 with 2 Axes>"
      ]
     },
     "metadata": {
      "needs_background": "light"
     },
     "output_type": "display_data"
    }
   ],
   "source": [
    "histogram_boxplot(data, \"prevailing_wage\")\n"
   ]
  },
  {
   "cell_type": "code",
   "execution_count": 20,
   "id": "c1223eec",
   "metadata": {},
   "outputs": [
    {
     "data": {
      "image/png": "[encoded data removed]",
      "text/plain": [
       "<Figure size 504x360 with 1 Axes>"
      ]
     },
     "metadata": {
      "needs_background": "light"
     },
     "output_type": "display_data"
    }
   ],
   "source": [
    "#Observations on continent\n",
    "labeled_barplot(data, \"continent\", perc=True)\n"
   ]
  },
  {
   "cell_type": "code",
   "execution_count": 21,
   "id": "2d99189b",
   "metadata": {},
   "outputs": [
    {
     "data": {
      "image/png": "[encoded data removed]",
      "text/plain": [
       "<Figure size 1080x360 with 2 Axes>"
      ]
     },
     "metadata": {
      "needs_background": "light"
     },
     "output_type": "display_data"
    }
   ],
   "source": [
    "#number of employees and case status\n",
    "fig,ax=plt.subplots(1,2, figsize=(15,5))\n",
    "sns.histplot(data=data[data[\"no_of_employees\"]<20000], x=\"no_of_employees\", hue=\"case_status\", ax=ax[0]);\n",
    "sns.histplot(data=data[data[\"no_of_employees\"]>20000], x=\"no_of_employees\", hue=\"case_status\", ax=ax[1]);"
   ]
  },
  {
   "cell_type": "markdown",
   "id": "a0bdda9d",
   "metadata": {},
   "source": [
    "# Null Values"
   ]
  },
  {
   "cell_type": "code",
   "execution_count": 1,
   "id": "39359c24",
   "metadata": {},
   "outputs": [
    {
     "ename": "ModuleNotFoundError",
     "evalue": "No module named 'pyspark'",
     "output_type": "error",
     "traceback": [
      "\u001b[1;31m---------------------------------------------------------------------------\u001b[0m",
      "\u001b[1;31mModuleNotFoundError\u001b[0m                       Traceback (most recent call last)",
      "Input \u001b[1;32mIn [1]\u001b[0m, in \u001b[0;36m<cell line: 1>\u001b[1;34m()\u001b[0m\n\u001b[1;32m----> 1\u001b[0m \u001b[38;5;28;01mfrom\u001b[39;00m \u001b[38;5;21;01mpyspark\u001b[39;00m\u001b[38;5;21;01m.\u001b[39;00m\u001b[38;5;21;01msql\u001b[39;00m\u001b[38;5;21;01m.\u001b[39;00m\u001b[38;5;21;01mfunctions\u001b[39;00m \u001b[38;5;28;01mimport\u001b[39;00m isnan, when, count, col\n\u001b[0;32m      2\u001b[0m \u001b[38;5;28;01mdef\u001b[39;00m \u001b[38;5;21mnull_values\u001b[39m(data):\n\u001b[0;32m      3\u001b[0m  data\u001b[38;5;241m.\u001b[39mselect([count(when(isnan(c) \u001b[38;5;241m|\u001b[39m col(c)\u001b[38;5;241m.\u001b[39misNull(),c))\u001b[38;5;241m.\u001b[39malias(c) \u001b[38;5;28;01mfor\u001b[39;00m c \u001b[38;5;129;01min\u001b[39;00m data\u001b[38;5;241m.\u001b[39mcolumns])\u001b[38;5;241m.\u001b[39mshow()\n",
      "\u001b[1;31mModuleNotFoundError\u001b[0m: No module named 'pyspark'"
     ]
    }
   ],
   "source": [
    "from pyspark.sql.functions import isnan, when, count, col\n",
    "def null_values(data):\n",
    " data.select([count(when(isnan(c) | col(c).isNull(),c)).alias(c) for c in data.columns]).show()    \n",
    "    \n"
   ]
  },
  {
   "cell_type": "code",
   "execution_count": 25,
   "id": "0d66e766",
   "metadata": {},
   "outputs": [
    {
     "name": "stderr",
     "output_type": "stream",
     "text": [
      "[Stage 21:>                                                         (0 + 1) / 1]\r"
     ]
    },
    {
     "name": "stdout",
     "output_type": "stream",
     "text": [
      "+-------+---------+---------------------+------------------+---------------------+---------------+-----------+--------------------+---------------+------------+------------------+-----------+\n",
      "|case_id|continent|education_of_employee|has_job_experience|requires_job_training|no_of_employees|yr_of_estab|region_of_employment|prevailing_wage|unit_of_wage|full_time_position|case_status|\n",
      "+-------+---------+---------------------+------------------+---------------------+---------------+-----------+--------------------+---------------+------------+------------------+-----------+\n",
      "|      0|        0|                    0|                 0|                    0|              0|          0|                   0|              0|           0|                 0|          0|\n",
      "+-------+---------+---------------------+------------------+---------------------+---------------+-----------+--------------------+---------------+------------+------------------+-----------+\n",
      "\n"
     ]
    },
    {
     "name": "stderr",
     "output_type": "stream",
     "text": [
      "                                                                                \r"
     ]
    }
   ],
   "source": [
    "null_values(df)"
   ]
  },
  {
   "cell_type": "code",
   "execution_count": 26,
   "id": "da2097dd",
   "metadata": {},
   "outputs": [
    {
     "name": "stdout",
     "output_type": "stream",
     "text": [
      "\n",
      "[('case_id', 'string'), ('continent', 'string'), ('education_of_employee', 'string'), ('has_job_experience', 'string'), ('requires_job_training', 'string'), ('no_of_employees', 'int'), ('yr_of_estab', 'int'), ('region_of_employment', 'string'), ('prevailing_wage', 'double'), ('unit_of_wage', 'string'), ('full_time_position', 'string'), ('case_status', 'string')]\n",
      "\n",
      "\n",
      "['case_id', 'continent', 'education_of_employee', 'has_job_experience', 'requires_job_training', 'region_of_employment', 'unit_of_wage', 'full_time_position', 'case_status']\n"
     ]
    },
    {
     "data": {
      "text/plain": [
       "9"
      ]
     },
     "execution_count": 26,
     "metadata": {},
     "output_type": "execute_result"
    }
   ],
   "source": [
    "#  Prepare a list of categorical columns (eight)\n",
    "\n",
    "x = df.dtypes\n",
    "print()\n",
    "print(x)\n",
    "print()\n",
    "print()\n",
    "\n",
    "\n",
    "\n",
    "cat_cols= [ c[0]  for c in x if c[1] == \"string\" ]\n",
    "\n",
    "\n",
    "print(cat_cols) \n",
    "\n",
    "\n",
    "len(cat_cols)    "
   ]
  },
  {
   "cell_type": "code",
   "execution_count": 27,
   "id": "c5e2dfbb",
   "metadata": {},
   "outputs": [],
   "source": [
    "# We will exclude the target, case_status , from here\n",
    "\n",
    "cat_cols= cat_cols[0:8]"
   ]
  },
  {
   "cell_type": "code",
   "execution_count": 28,
   "id": "45aed373",
   "metadata": {},
   "outputs": [
    {
     "name": "stdout",
     "output_type": "stream",
     "text": [
      "['no_of_employees', 'yr_of_estab', 'prevailing_wage']\n"
     ]
    }
   ],
   "source": [
    "# Get remaining list of numerical columns\n",
    "\n",
    "num_cols = [ i[0]   for i in df.dtypes  if i[1] != \"string\" ]\n",
    "print(num_cols)"
   ]
  },
  {
   "cell_type": "code",
   "execution_count": 29,
   "id": "5a700bad",
   "metadata": {},
   "outputs": [
    {
     "name": "stdout",
     "output_type": "stream",
     "text": [
      "['case_id_index', 'continent_index', 'education_of_employee_index', 'has_job_experience_index', 'requires_job_training_index', 'region_of_employment_index', 'unit_of_wage_index', 'full_time_position_index']\n"
     ]
    }
   ],
   "source": [
    "#  After String indexing, names of our\n",
    "#        cat_columns would be:\n",
    "\n",
    "cat_cols_si = [c+\"_index\"  for c in cat_cols]\n",
    "\n",
    "print(cat_cols_si)"
   ]
  },
  {
   "cell_type": "code",
   "execution_count": 30,
   "id": "4c1b5b79",
   "metadata": {},
   "outputs": [
    {
     "name": "stdout",
     "output_type": "stream",
     "text": [
      "['case_id_ohe', 'continent_ohe', 'education_of_employee_ohe', 'has_job_experience_ohe', 'requires_job_training_ohe', 'region_of_employment_ohe', 'unit_of_wage_ohe', 'full_time_position_ohe']\n"
     ]
    }
   ],
   "source": [
    "#  We will name our OHE columns, as:\n",
    "\n",
    "ohe_cols = [ c + \"_ohe\"   for  c  in cat_cols ]\n",
    "print(ohe_cols)"
   ]
  },
  {
   "cell_type": "code",
   "execution_count": 31,
   "id": "b554072b",
   "metadata": {},
   "outputs": [
    {
     "name": "stdout",
     "output_type": "stream",
     "text": [
      "+-------------+-----+\n",
      "|    continent|count|\n",
      "+-------------+-----+\n",
      "|       Europe| 3732|\n",
      "|       Africa|  551|\n",
      "|North America| 3292|\n",
      "+-------------+-----+\n",
      "only showing top 3 rows\n",
      "\n",
      "+-------------+-----+\n",
      "|    continent|count|\n",
      "+-------------+-----+\n",
      "|      Oceania|  192|\n",
      "|       Africa|  551|\n",
      "|South America|  852|\n",
      "+-------------+-----+\n",
      "only showing top 3 rows\n",
      "\n",
      "+-------------+-----+\n",
      "|    continent|count|\n",
      "+-------------+-----+\n",
      "|         Asia|16861|\n",
      "|       Europe| 3732|\n",
      "|North America| 3292|\n",
      "+-------------+-----+\n",
      "only showing top 3 rows\n",
      "\n"
     ]
    },
    {
     "data": {
      "text/plain": [
       "Row(continent='Asia', count=16861)"
      ]
     },
     "execution_count": 31,
     "metadata": {},
     "output_type": "execute_result"
    },
    {
     "data": {
      "text/plain": [
       "'Asia'"
      ]
     },
     "execution_count": 31,
     "metadata": {},
     "output_type": "execute_result"
    },
    {
     "data": {
      "text/plain": [
       "'Asia'"
      ]
     },
     "execution_count": 31,
     "metadata": {},
     "output_type": "execute_result"
    },
    {
     "data": {
      "text/plain": [
       "'Asia'"
      ]
     },
     "execution_count": 31,
     "metadata": {},
     "output_type": "execute_result"
    }
   ],
   "source": [
    "# Getting mode of a feature--step-by-step\n",
    "\n",
    "df.groupby('continent').count().show(3)\n",
    "df.groupby('continent').count().orderBy(\"count\").show(3)\n",
    "df.groupby('continent').count().orderBy(\"count\",ascending = False).show(3)\n",
    "df.groupby('continent').count().orderBy(\"count\",ascending = False).first()     # Print first Row\n",
    "\n",
    "#  Row object:\n",
    "df.groupby('continent').count().orderBy(\"count\",ascending = False).first()['continent'] # Access values as dict values\n",
    "df.groupby('continent').count().orderBy(\"count\",ascending = False).first().continent    # Access values like attributes\n",
    "df.groupby('continent').count().orderBy(\"count\",ascending = False).first()[0]           # Row object behaves as a dict"
   ]
  },
  {
   "cell_type": "code",
   "execution_count": 32,
   "id": "f5f8e482",
   "metadata": {},
   "outputs": [
    {
     "name": "stderr",
     "output_type": "stream",
     "text": [
      "                                                                                \r"
     ]
    },
    {
     "data": {
      "text/plain": [
       "[['case_id', 'EZYV888'],\n",
       " ['continent', 'Asia'],\n",
       " ['education_of_employee', \"Bachelor's\"],\n",
       " ['has_job_experience', 'Y'],\n",
       " ['requires_job_training', 'N'],\n",
       " ['no_of_employees', 183],\n",
       " ['yr_of_estab', 1998],\n",
       " ['region_of_employment', 'Northeast'],\n",
       " ['prevailing_wage', 138.76],\n",
       " ['unit_of_wage', 'Year'],\n",
       " ['full_time_position', 'Y'],\n",
       " ['case_status', 'Certified']]"
      ]
     },
     "execution_count": 32,
     "metadata": {},
     "output_type": "execute_result"
    }
   ],
   "source": [
    "# Find mode of each column\n",
    "# Refer: https://stackoverflow.com/a/58279672\n",
    "\n",
    "\n",
    "[[i,df.groupby(i).count().orderBy(\"count\", ascending=False).first()[0]] for i in df.columns]"
   ]
  },
  {
   "cell_type": "markdown",
   "id": "37924ee2",
   "metadata": {},
   "source": [
    "# String to label"
   ]
  },
  {
   "cell_type": "code",
   "execution_count": 33,
   "id": "ab9de10a",
   "metadata": {},
   "outputs": [
    {
     "name": "stderr",
     "output_type": "stream",
     "text": [
      "                                                                                \r"
     ]
    },
    {
     "data": {
      "text/plain": [
       "[Row(case_status='Denied', label=1.0),\n",
       " Row(case_status='Certified', label=0.0),\n",
       " Row(case_status='Denied', label=1.0),\n",
       " Row(case_status='Denied', label=1.0),\n",
       " Row(case_status='Certified', label=0.0),\n",
       " Row(case_status='Certified', label=0.0),\n",
       " Row(case_status='Certified', label=0.0),\n",
       " Row(case_status='Denied', label=1.0),\n",
       " Row(case_status='Certified', label=0.0),\n",
       " Row(case_status='Certified', label=0.0)]"
      ]
     },
     "execution_count": 33,
     "metadata": {},
     "output_type": "execute_result"
    }
   ],
   "source": [
    " #Separately we will add another stage to convert target, income,\n",
    "#         into 'label' indices using the StringIndexer.\n",
    "#         We will not OneHotEncode  'label'\n",
    "\n",
    "label_To_integer = StringIndexer(\n",
    "                                   inputCol = \"case_status\",\n",
    "                                   outputCol = \"label\"\n",
    "                                 )\n",
    "\n",
    "\n",
    "model = label_To_integer.fit(df.select(\"case_status\"))\n",
    "model.transform(df.select('case_status')).take(10)"
   ]
  },
  {
   "cell_type": "markdown",
   "id": "fe5b6ce0",
   "metadata": {},
   "source": [
    "# Pipeline\n",
    "data --> stringIndex target --> stringIndex cat_columns --> ohe cat_columns -->  assemble all --> standardise numeric features "
   ]
  },
  {
   "cell_type": "code",
   "execution_count": 34,
   "id": "9541a663",
   "metadata": {},
   "outputs": [],
   "source": [
    "#libraries onceagain\n",
    "# Ref: https://spark.apache.org/docs/latest/ml-features.html#extracting-transforming-and-selecting-features\n",
    "#      https://spark.apache.org/docs/latest/ml-classification-regression.html  \n",
    "#      https://spark.apache.org/docs/latest/api/python/reference/api/pyspark.ml.classification.LogisticRegression.html\n",
    "\n",
    "\n",
    "from pyspark.ml.feature import StringIndexer\n",
    "from pyspark.ml.feature import OneHotEncoder\n",
    "from pyspark.ml.feature import StandardScaler\n",
    "from pyspark.ml.feature import VectorAssembler\n",
    "from pyspark.ml.classification import LogisticRegression\n",
    "from pyspark.ml import Pipeline"
   ]
  },
  {
   "cell_type": "code",
   "execution_count": 35,
   "id": "96e8d67f",
   "metadata": {},
   "outputs": [],
   "source": [
    "#  In building Pipeline,\n",
    "#      keyword 'stages' is a must\n",
    "\n",
    "pipe = Pipeline(\n",
    "                stages =  [\n",
    "                            #  StringIndex target\n",
    "                            StringIndexer(\n",
    "                                           inputCol =\"case_status\",\n",
    "                                           outputCol = \"label\"\n",
    "                                           ),\n",
    "\n",
    "                             # StringIndex all categorical cols\n",
    "                             StringIndexer(\n",
    "                                          inputCols = cat_cols,\n",
    "                                          outputCols = cat_cols_si\n",
    "                                         ),\n",
    "                    \n",
    "                             # OHE, StringIndexed columns\n",
    "                             OneHotEncoder(\n",
    "                                           inputCols = cat_cols_si,\n",
    "                                           outputCols = ohe_cols\n",
    "                                          ),\n",
    "                    \n",
    "                              #  Assemble OHE + num_cols\n",
    "                              VectorAssembler\n",
    "                                           (\n",
    "                                           inputCols = ohe_cols + num_cols,\n",
    "                                           outputCol = 'ass_features'    \n",
    "\n",
    "                                           ),\n",
    "                             \n",
    "                             # Scale 'vector' column\n",
    "                             StandardScaler(\n",
    "                                            inputCol = 'ass_features',\n",
    "                                            outputCol = 'features'\n",
    "\n",
    "                                           )\n",
    "                     \n",
    "                       ]\n",
    "\n",
    "            )"
   ]
  },
  {
   "cell_type": "code",
   "execution_count": 36,
   "id": "26582b02",
   "metadata": {},
   "outputs": [
    {
     "name": "stdout",
     "output_type": "stream",
     "text": [
      "22/10/04 22:39:22 WARN DAGScheduler: Broadcasting large task binary with size 2.6 MiB\n"
     ]
    },
    {
     "name": "stderr",
     "output_type": "stream",
     "text": [
      "[Stage 91:>                                                         (0 + 1) / 1]\r"
     ]
    },
    {
     "name": "stdout",
     "output_type": "stream",
     "text": [
      "22/10/04 22:39:25 WARN DAGScheduler: Broadcasting large task binary with size 2.6 MiB\n"
     ]
    },
    {
     "name": "stderr",
     "output_type": "stream",
     "text": [
      "                                                                                \r"
     ]
    }
   ],
   "source": [
    "# Get transformed data: \n",
    "model= pipe.fit(df)\n",
    "\n",
    "\n",
    "df_trans = model.transform(df)"
   ]
  },
  {
   "cell_type": "code",
   "execution_count": 37,
   "id": "1c34224f",
   "metadata": {},
   "outputs": [
    {
     "name": "stdout",
     "output_type": "stream",
     "text": [
      "['case_id', 'continent', 'education_of_employee', 'has_job_experience', 'requires_job_training', 'no_of_employees', 'yr_of_estab', 'region_of_employment', 'prevailing_wage', 'unit_of_wage', 'full_time_position', 'case_status', 'label', 'case_id_index', 'continent_index', 'education_of_employee_index', 'has_job_experience_index', 'requires_job_training_index', 'region_of_employment_index', 'unit_of_wage_index', 'full_time_position_index', 'case_id_ohe', 'continent_ohe', 'education_of_employee_ohe', 'has_job_experience_ohe', 'requires_job_training_ohe', 'region_of_employment_ohe', 'unit_of_wage_ohe', 'full_time_position_ohe', 'ass_features', 'features']\n"
     ]
    },
    {
     "data": {
      "text/plain": [
       "12"
      ]
     },
     "execution_count": 37,
     "metadata": {},
     "output_type": "execute_result"
    },
    {
     "data": {
      "text/plain": [
       "31"
      ]
     },
     "execution_count": 37,
     "metadata": {},
     "output_type": "execute_result"
    }
   ],
   "source": [
    "\n",
    "print(df_trans.columns)\n",
    "\n",
    "\n",
    "len(df.columns)         # 15\n",
    "len(df_trans.columns)   # 34"
   ]
  },
  {
   "cell_type": "markdown",
   "id": "2b303f16",
   "metadata": {},
   "source": [
    "# Pipeline with Estimator"
   ]
  },
  {
   "cell_type": "code",
   "execution_count": 38,
   "id": "d55395e6",
   "metadata": {},
   "outputs": [],
   "source": [
    "#  In building Pipeline,\n",
    "#      keyword 'stages' is a must\n",
    "\n",
    "pipe = Pipeline(\n",
    "                stages =  [\n",
    "                            #  StringIndex target\n",
    "                            StringIndexer(\n",
    "                                           inputCol =\"case_status\",\n",
    "                                           handleInvalid = 'keep',\n",
    "                                           outputCol = \"label\"\n",
    "                                           ),\n",
    "\n",
    "                             #  StringIndex all categorical cols\n",
    "                             StringIndexer(\n",
    "                                          inputCols = cat_cols,\n",
    "                                          handleInvalid = 'keep',\n",
    "                                          outputCols = cat_cols_si\n",
    "                                         ),\n",
    "                    \n",
    "                             #  OHE, StringIndexed columns\n",
    "                             OneHotEncoder(\n",
    "                                           inputCols = cat_cols_si,\n",
    "                                           outputCols = ohe_cols\n",
    "                                          ),\n",
    "                    \n",
    "                              #  Assemble OHE + num_cols\n",
    "                              VectorAssembler\n",
    "                                           (\n",
    "                                           inputCols = ohe_cols + num_cols,\n",
    "                                           outputCol = 'ass_features'    \n",
    "\n",
    "                                           ),\n",
    "                             \n",
    "                             #  Scale 'vector' column\n",
    "                             StandardScaler(\n",
    "                                            inputCol = 'ass_features',\n",
    "                                            outputCol = 'features'\n",
    "                                           ),\n",
    "                            \n",
    "                             #  Modeling\n",
    "                             # https://spark.apache.org/docs/latest/api/python/pyspark.ml.html#pyspark.ml.classification.LogisticRegression\n",
    "                             LogisticRegression(\n",
    "                                 \n",
    "                                                 featuresCol='features',\n",
    "                                                 labelCol='label',\n",
    "                                                 maxIter=30\n",
    "                                               )\n",
    "                    \n",
    "                       ]\n",
    "\n",
    "            )"
   ]
  },
  {
   "cell_type": "markdown",
   "id": "19bf1fd5",
   "metadata": {},
   "source": [
    "# Split data and perform modeling"
   ]
  },
  {
   "cell_type": "code",
   "execution_count": 39,
   "id": "ce2012f6",
   "metadata": {},
   "outputs": [],
   "source": [
    "#  train/test split\n",
    "train, test = df.randomSplit([0.8, 0.2], seed=12345)"
   ]
  },
  {
   "cell_type": "code",
   "execution_count": 40,
   "id": "acbed62c",
   "metadata": {},
   "outputs": [
    {
     "name": "stderr",
     "output_type": "stream",
     "text": [
      "                                                                                \r"
     ]
    },
    {
     "data": {
      "text/plain": [
       "20272"
      ]
     },
     "execution_count": 40,
     "metadata": {},
     "output_type": "execute_result"
    }
   ],
   "source": [
    "#  Data size\n",
    "train.count() "
   ]
  },
  {
   "cell_type": "code",
   "execution_count": 41,
   "id": "394eb947",
   "metadata": {},
   "outputs": [
    {
     "name": "stdout",
     "output_type": "stream",
     "text": [
      "22/10/04 22:39:32 WARN DAGScheduler: Broadcasting large task binary with size 2.0 MiB\n"
     ]
    },
    {
     "name": "stderr",
     "output_type": "stream",
     "text": [
      "[Stage 103:>                                                        (0 + 1) / 1]\r"
     ]
    },
    {
     "name": "stdout",
     "output_type": "stream",
     "text": [
      "22/10/04 22:39:33 WARN DAGScheduler: Broadcasting large task binary with size 2.0 MiB\n"
     ]
    },
    {
     "name": "stderr",
     "output_type": "stream",
     "text": [
      "                                                                                \r"
     ]
    },
    {
     "name": "stdout",
     "output_type": "stream",
     "text": [
      "22/10/04 22:39:34 WARN DAGScheduler: Broadcasting large task binary with size 2.2 MiB\n"
     ]
    },
    {
     "name": "stderr",
     "output_type": "stream",
     "text": [
      "                                                                                \r"
     ]
    },
    {
     "name": "stdout",
     "output_type": "stream",
     "text": [
      "22/10/04 22:39:37 WARN DAGScheduler: Broadcasting large task binary with size 2.2 MiB\n"
     ]
    },
    {
     "name": "stderr",
     "output_type": "stream",
     "text": [
      "[Stage 107:>                                                        (0 + 1) / 1]\r"
     ]
    },
    {
     "name": "stdout",
     "output_type": "stream",
     "text": [
      "22/10/04 22:39:39 WARN InstanceBuilder$NativeBLAS: Failed to load implementation from:dev.ludovic.netlib.blas.JNIBLAS\n",
      "22/10/04 22:39:39 WARN InstanceBuilder$NativeBLAS: Failed to load implementation from:dev.ludovic.netlib.blas.ForeignLinkerBLAS\n"
     ]
    },
    {
     "name": "stderr",
     "output_type": "stream",
     "text": [
      "                                                                                \r"
     ]
    },
    {
     "name": "stdout",
     "output_type": "stream",
     "text": [
      "22/10/04 22:39:39 WARN BLAS: Failed to load implementation from: com.github.fommil.netlib.NativeSystemBLAS\n",
      "22/10/04 22:39:39 WARN BLAS: Failed to load implementation from: com.github.fommil.netlib.NativeRefBLAS\n",
      "22/10/04 22:39:39 WARN DAGScheduler: Broadcasting large task binary with size 2.2 MiB\n",
      "22/10/04 22:39:40 WARN DAGScheduler: Broadcasting large task binary with size 2.2 MiB\n",
      "22/10/04 22:39:40 WARN DAGScheduler: Broadcasting large task binary with size 2.2 MiB\n",
      "22/10/04 22:39:40 WARN DAGScheduler: Broadcasting large task binary with size 2.2 MiB\n",
      "22/10/04 22:39:40 WARN DAGScheduler: Broadcasting large task binary with size 2.2 MiB\n",
      "22/10/04 22:39:41 WARN DAGScheduler: Broadcasting large task binary with size 2.2 MiB\n",
      "22/10/04 22:39:41 WARN DAGScheduler: Broadcasting large task binary with size 2.2 MiB\n",
      "22/10/04 22:39:41 WARN DAGScheduler: Broadcasting large task binary with size 2.2 MiB\n",
      "22/10/04 22:39:41 WARN DAGScheduler: Broadcasting large task binary with size 2.2 MiB\n",
      "22/10/04 22:39:42 WARN DAGScheduler: Broadcasting large task binary with size 2.2 MiB\n",
      "22/10/04 22:39:42 WARN DAGScheduler: Broadcasting large task binary with size 2.2 MiB\n",
      "22/10/04 22:39:42 WARN DAGScheduler: Broadcasting large task binary with size 2.2 MiB\n",
      "22/10/04 22:39:43 WARN DAGScheduler: Broadcasting large task binary with size 2.2 MiB\n",
      "22/10/04 22:39:43 WARN DAGScheduler: Broadcasting large task binary with size 2.2 MiB\n",
      "22/10/04 22:39:44 WARN DAGScheduler: Broadcasting large task binary with size 2.2 MiB\n",
      "22/10/04 22:39:44 WARN DAGScheduler: Broadcasting large task binary with size 2.2 MiB\n",
      "22/10/04 22:39:44 WARN DAGScheduler: Broadcasting large task binary with size 2.2 MiB\n",
      "22/10/04 22:39:45 WARN DAGScheduler: Broadcasting large task binary with size 2.2 MiB\n",
      "22/10/04 22:39:45 WARN DAGScheduler: Broadcasting large task binary with size 2.2 MiB\n",
      "22/10/04 22:39:45 WARN DAGScheduler: Broadcasting large task binary with size 2.2 MiB\n",
      "22/10/04 22:39:45 WARN DAGScheduler: Broadcasting large task binary with size 2.2 MiB\n",
      "22/10/04 22:39:45 WARN DAGScheduler: Broadcasting large task binary with size 2.2 MiB\n",
      "22/10/04 22:39:46 WARN DAGScheduler: Broadcasting large task binary with size 2.2 MiB\n",
      "22/10/04 22:39:46 WARN DAGScheduler: Broadcasting large task binary with size 2.2 MiB\n",
      "22/10/04 22:39:46 WARN DAGScheduler: Broadcasting large task binary with size 2.2 MiB\n"
     ]
    },
    {
     "data": {
      "text/plain": [
       "0.30990625619888307"
      ]
     },
     "execution_count": 41,
     "metadata": {},
     "output_type": "execute_result"
    }
   ],
   "source": [
    "#  train the model\n",
    "\n",
    "start = time.time()\n",
    "lrModel = pipe.fit(train)\n",
    "end = time.time()\n",
    "(end-start)/60"
   ]
  },
  {
   "cell_type": "markdown",
   "id": "6dd027fd",
   "metadata": {},
   "source": [
    "# Predictions"
   ]
  },
  {
   "cell_type": "code",
   "execution_count": 42,
   "id": "71cdca64",
   "metadata": {},
   "outputs": [
    {
     "name": "stdout",
     "output_type": "stream",
     "text": [
      "\n",
      "['case_id', 'continent', 'education_of_employee', 'has_job_experience', 'requires_job_training', 'no_of_employees', 'yr_of_estab', 'region_of_employment', 'prevailing_wage', 'unit_of_wage', 'full_time_position', 'case_status', 'label', 'case_id_index', 'continent_index', 'education_of_employee_index', 'has_job_experience_index', 'requires_job_training_index', 'region_of_employment_index', 'unit_of_wage_index', 'full_time_position_index', 'case_id_ohe', 'continent_ohe', 'education_of_employee_ohe', 'has_job_experience_ohe', 'requires_job_training_ohe', 'region_of_employment_ohe', 'unit_of_wage_ohe', 'full_time_position_ohe', 'ass_features', 'features', 'rawPrediction', 'probability', 'prediction']\n",
      "\n",
      "root\n",
      " |-- case_id: string (nullable = true)\n",
      " |-- continent: string (nullable = true)\n",
      " |-- education_of_employee: string (nullable = true)\n",
      " |-- has_job_experience: string (nullable = true)\n",
      " |-- requires_job_training: string (nullable = true)\n",
      " |-- no_of_employees: integer (nullable = true)\n",
      " |-- yr_of_estab: integer (nullable = true)\n",
      " |-- region_of_employment: string (nullable = true)\n",
      " |-- prevailing_wage: double (nullable = true)\n",
      " |-- unit_of_wage: string (nullable = true)\n",
      " |-- full_time_position: string (nullable = true)\n",
      " |-- case_status: string (nullable = true)\n",
      " |-- label: double (nullable = false)\n",
      " |-- case_id_index: double (nullable = false)\n",
      " |-- continent_index: double (nullable = false)\n",
      " |-- education_of_employee_index: double (nullable = false)\n",
      " |-- has_job_experience_index: double (nullable = false)\n",
      " |-- requires_job_training_index: double (nullable = false)\n",
      " |-- region_of_employment_index: double (nullable = false)\n",
      " |-- unit_of_wage_index: double (nullable = false)\n",
      " |-- full_time_position_index: double (nullable = false)\n",
      " |-- case_id_ohe: vector (nullable = true)\n",
      " |-- continent_ohe: vector (nullable = true)\n",
      " |-- education_of_employee_ohe: vector (nullable = true)\n",
      " |-- has_job_experience_ohe: vector (nullable = true)\n",
      " |-- requires_job_training_ohe: vector (nullable = true)\n",
      " |-- region_of_employment_ohe: vector (nullable = true)\n",
      " |-- unit_of_wage_ohe: vector (nullable = true)\n",
      " |-- full_time_position_ohe: vector (nullable = true)\n",
      " |-- ass_features: vector (nullable = true)\n",
      " |-- features: vector (nullable = true)\n",
      " |-- rawPrediction: vector (nullable = true)\n",
      " |-- probability: vector (nullable = true)\n",
      " |-- prediction: double (nullable = false)\n",
      "\n"
     ]
    }
   ],
   "source": [
    "#  Make predictions on test data using the transform() method.\n",
    "#     LogisticRegression.transform() will only use the 'features' column.\n",
    "\n",
    "predictions = lrModel.transform(test)\n",
    "\n",
    "\n",
    "print()\n",
    "print(predictions.columns)         # There is a 'rawPrediction'column also\n",
    "\n",
    "print()\n",
    "predictions.printSchema()\n"
   ]
  },
  {
   "cell_type": "code",
   "execution_count": 43,
   "id": "bf66fcfc",
   "metadata": {},
   "outputs": [
    {
     "name": "stdout",
     "output_type": "stream",
     "text": [
      "22/10/04 22:39:49 WARN DAGScheduler: Broadcasting large task binary with size 2.7 MiB\n",
      "+-----+----------+--------------------+---------------+---------------+--------------------+\n",
      "|label|prediction|         probability|prevailing_wage|no_of_employees|       rawPrediction|\n",
      "+-----+----------+--------------------+---------------+---------------+--------------------+\n",
      "|  0.0|       0.0|[0.97892426034267...|       53635.39|           4985|[5.14861410776556...|\n",
      "|  0.0|       0.0|[0.99576198453999...|       849.9988|           2344|[5.91388000524956...|\n",
      "|  0.0|       0.0|[0.87914377475401...|       14130.76|            163|[4.22862759854415...|\n",
      "+-----+----------+--------------------+---------------+---------------+--------------------+\n",
      "only showing top 3 rows\n",
      "\n"
     ]
    }
   ],
   "source": [
    "#  View model's predictions and probabilities of each prediction class\n",
    "#           You can select any columns in the above schema to view as well.\n",
    "#           For example's sake we will choose age & continent\n",
    "\n",
    "selected = predictions.select(\"label\", \"prediction\", \"probability\", \"prevailing_wage\", \"no_of_employees\", \"rawPrediction\")\n",
    "selected.show(3)"
   ]
  },
  {
   "cell_type": "code",
   "execution_count": 44,
   "id": "5438e9ed",
   "metadata": {},
   "outputs": [],
   "source": [
    "### Evaluation of model"
   ]
  },
  {
   "cell_type": "code",
   "execution_count": 45,
   "id": "31d3bac1",
   "metadata": {},
   "outputs": [],
   "source": [
    "from pyspark.ml.evaluation import MulticlassClassificationEvaluator"
   ]
  },
  {
   "cell_type": "code",
   "execution_count": 55,
   "id": "95431357",
   "metadata": {},
   "outputs": [
    {
     "name": "stdout",
     "output_type": "stream",
     "text": [
      "22/10/04 22:47:46 WARN DAGScheduler: Broadcasting large task binary with size 2.7 MiB\n"
     ]
    },
    {
     "data": {
      "text/plain": [
       "0.6561781765436286"
      ]
     },
     "execution_count": 55,
     "metadata": {},
     "output_type": "execute_result"
    },
    {
     "data": {
      "text/plain": [
       "'f1'"
      ]
     },
     "execution_count": 55,
     "metadata": {},
     "output_type": "execute_result"
    }
   ],
   "source": [
    "# We can make use of the BinaryClassificationEvaluator method to\n",
    "#         evaluate our model.\n",
    "#         The Evaluator expects two input columns: (rawPrediction, label)\n",
    "#          and a value of 'metricName'\n",
    "#          By default -label- parameter has value 'label', 'metricName'\n",
    "#          has value of \"areaUnderROC\"\n",
    "\n",
    "#  Evaluate model. Returns AUC\n",
    "\n",
    "evaluator = MulticlassClassificationEvaluator()\n",
    "evaluator.evaluate(predictions)\n",
    "\n",
    "#  Note that the default metric for the\n",
    "#           BinaryClassificationEvaluator is areaUnderROC\n",
    "\n",
    "evaluator.getMetricName()"
   ]
  },
  {
   "cell_type": "code",
   "execution_count": 52,
   "id": "4952b132",
   "metadata": {},
   "outputs": [
    {
     "data": {
      "text/plain": [
       "[StringIndexer_ec06fc01d0f5,\n",
       " StringIndexer_74e065e63b3a,\n",
       " OneHotEncoder_b76284e90ec0,\n",
       " VectorAssembler_603edb02ca21,\n",
       " StandardScaler_12e8cd2b117d,\n",
       " LogisticRegression_00fa18a91e3d]"
      ]
     },
     "execution_count": 52,
     "metadata": {},
     "output_type": "execute_result"
    },
    {
     "data": {
      "text/plain": [
       "LogisticRegression_00fa18a91e3d"
      ]
     },
     "execution_count": 52,
     "metadata": {},
     "output_type": "execute_result"
    }
   ],
   "source": [
    "pipe.getStages()\n",
    "pipe.getStages()[5]"
   ]
  },
  {
   "cell_type": "markdown",
   "id": "f734de66",
   "metadata": {},
   "source": [
    "## Parameter tuning GridSearch based parameter selection"
   ]
  },
  {
   "cell_type": "code",
   "execution_count": 53,
   "id": "046bc4d4",
   "metadata": {},
   "outputs": [],
   "source": [
    "#  Create ParamGrid for Cross Validation\n",
    "#     Ref: https://spark.apache.org/docs/latest/api/python/pyspark.ml.html#pyspark.ml.tuning.ParamGridBuilder\n",
    "#     Ref: https://spark.apache.org/docs/latest/api/python/pyspark.ml.html#pyspark.ml.tuning.CrossValidator\n",
    "\n",
    "#  K-fold cross validation performs model selection by splitting the dataset into a set of\n",
    "#    non-overlapping randomly partitioned folds which are used as separate training and\n",
    "#     test datasets e.g., with k=3 folds, K-fold cross validation will generate 3 (training, test)\n",
    "#      dataset pairs, each of which uses 2/3 of the data for training and 1/3 for testing.\n",
    "#       Each fold is used as the test set exactly once.\n",
    "\n",
    "#  One Way\n",
    "\n",
    "lr = pipe.getStages()[5]\n",
    "\n",
    "\n",
    "\n",
    "grid = (\n",
    "        ParamGridBuilder()\n",
    "                 .addGrid(lr.regParam, [ 0.01, 1, 2.0]) \\\n",
    "                 .addGrid(lr.elasticNetParam, [0.0, 0.5, 1.0]) \\\n",
    "                 .addGrid(lr.maxIter, [1, 10]) \\\n",
    "                 .build()\n",
    "       )\n"
   ]
  },
  {
   "cell_type": "code",
   "execution_count": 56,
   "id": "f76473a1",
   "metadata": {},
   "outputs": [],
   "source": [
    "# 15.2 Define our evaluator\n",
    "evaluator = MulticlassClassificationEvaluator()\n",
    "\n",
    "# 15.3 And crossvalidator\n",
    "cv = CrossValidator(estimator= pipe, \\\n",
    "                    estimatorParamMaps= grid,     \\\n",
    "                    evaluator=evaluator,  \\\n",
    "                    numFolds=3\n",
    "                    )"
   ]
  },
  {
   "cell_type": "code",
   "execution_count": 57,
   "id": "c65a3683",
   "metadata": {},
   "outputs": [
    {
     "name": "stderr",
     "output_type": "stream",
     "text": [
      "                                                                                \r"
     ]
    },
    {
     "name": "stdout",
     "output_type": "stream",
     "text": [
      "22/10/04 22:48:15 WARN DAGScheduler: Broadcasting large task binary with size 1542.5 KiB\n"
     ]
    },
    {
     "name": "stderr",
     "output_type": "stream",
     "text": [
      "[Stage 144:>                                                        (0 + 1) / 1]\r"
     ]
    },
    {
     "name": "stdout",
     "output_type": "stream",
     "text": [
      "22/10/04 22:48:16 WARN DAGScheduler: Broadcasting large task binary with size 1524.7 KiB\n"
     ]
    },
    {
     "name": "stderr",
     "output_type": "stream",
     "text": [
      "                                                                                \r"
     ]
    },
    {
     "name": "stdout",
     "output_type": "stream",
     "text": [
      "22/10/04 22:48:16 WARN DAGScheduler: Broadcasting large task binary with size 1661.4 KiB\n",
      "22/10/04 22:48:17 WARN DAGScheduler: Broadcasting large task binary with size 1663.0 KiB\n"
     ]
    },
    {
     "name": "stderr",
     "output_type": "stream",
     "text": [
      "                                                                                \r"
     ]
    },
    {
     "name": "stdout",
     "output_type": "stream",
     "text": [
      "22/10/04 22:48:18 WARN DAGScheduler: Broadcasting large task binary with size 1663.0 KiB\n",
      "22/10/04 22:48:20 WARN DAGScheduler: Broadcasting large task binary with size 2000.2 KiB\n"
     ]
    },
    {
     "name": "stderr",
     "output_type": "stream",
     "text": [
      "                                                                                \r"
     ]
    },
    {
     "name": "stdout",
     "output_type": "stream",
     "text": [
      "22/10/04 22:48:22 WARN DAGScheduler: Broadcasting large task binary with size 1542.5 KiB\n",
      "22/10/04 22:48:23 WARN DAGScheduler: Broadcasting large task binary with size 1524.7 KiB\n",
      "22/10/04 22:48:23 WARN DAGScheduler: Broadcasting large task binary with size 1661.4 KiB\n",
      "22/10/04 22:48:24 WARN DAGScheduler: Broadcasting large task binary with size 1663.1 KiB\n"
     ]
    },
    {
     "name": "stderr",
     "output_type": "stream",
     "text": [
      "                                                                                \r"
     ]
    },
    {
     "name": "stdout",
     "output_type": "stream",
     "text": [
      "22/10/04 22:48:25 WARN DAGScheduler: Broadcasting large task binary with size 1663.1 KiB\n",
      "22/10/04 22:48:25 WARN DAGScheduler: Broadcasting large task binary with size 1663.1 KiB\n",
      "22/10/04 22:48:25 WARN DAGScheduler: Broadcasting large task binary with size 1663.1 KiB\n",
      "22/10/04 22:48:25 WARN DAGScheduler: Broadcasting large task binary with size 1663.1 KiB\n",
      "22/10/04 22:48:25 WARN DAGScheduler: Broadcasting large task binary with size 1663.1 KiB\n",
      "22/10/04 22:48:25 WARN DAGScheduler: Broadcasting large task binary with size 1663.1 KiB\n",
      "22/10/04 22:48:26 WARN DAGScheduler: Broadcasting large task binary with size 1663.1 KiB\n",
      "22/10/04 22:48:26 WARN DAGScheduler: Broadcasting large task binary with size 1663.1 KiB\n",
      "22/10/04 22:48:26 WARN DAGScheduler: Broadcasting large task binary with size 1663.1 KiB\n",
      "22/10/04 22:48:26 WARN DAGScheduler: Broadcasting large task binary with size 1663.1 KiB\n",
      "22/10/04 22:48:27 WARN DAGScheduler: Broadcasting large task binary with size 2000.3 KiB\n",
      "22/10/04 22:48:29 WARN DAGScheduler: Broadcasting large task binary with size 1542.5 KiB\n",
      "22/10/04 22:48:29 WARN DAGScheduler: Broadcasting large task binary with size 1524.7 KiB\n",
      "22/10/04 22:48:30 WARN DAGScheduler: Broadcasting large task binary with size 1661.3 KiB\n",
      "22/10/04 22:48:30 WARN DAGScheduler: Broadcasting large task binary with size 1662.9 KiB\n",
      "22/10/04 22:48:31 WARN DAGScheduler: Broadcasting large task binary with size 1662.9 KiB\n",
      "22/10/04 22:48:31 WARN DAGScheduler: Broadcasting large task binary with size 1662.9 KiB\n",
      "22/10/04 22:48:32 WARN DAGScheduler: Broadcasting large task binary with size 1662.9 KiB\n",
      "22/10/04 22:48:32 WARN DAGScheduler: Broadcasting large task binary with size 1662.9 KiB\n",
      "22/10/04 22:48:34 WARN DAGScheduler: Broadcasting large task binary with size 1788.6 KiB\n"
     ]
    },
    {
     "name": "stderr",
     "output_type": "stream",
     "text": [
      "                                                                                \r"
     ]
    },
    {
     "name": "stdout",
     "output_type": "stream",
     "text": [
      "22/10/04 22:48:38 WARN DAGScheduler: Broadcasting large task binary with size 1542.5 KiB\n",
      "22/10/04 22:48:39 WARN DAGScheduler: Broadcasting large task binary with size 1524.7 KiB\n",
      "22/10/04 22:48:40 WARN DAGScheduler: Broadcasting large task binary with size 1661.4 KiB\n",
      "22/10/04 22:48:40 WARN DAGScheduler: Broadcasting large task binary with size 1663.1 KiB\n",
      "22/10/04 22:48:41 WARN DAGScheduler: Broadcasting large task binary with size 1663.1 KiB\n",
      "22/10/04 22:48:41 WARN DAGScheduler: Broadcasting large task binary with size 1663.1 KiB\n",
      "22/10/04 22:48:41 WARN DAGScheduler: Broadcasting large task binary with size 1663.1 KiB\n",
      "22/10/04 22:48:41 WARN DAGScheduler: Broadcasting large task binary with size 1663.1 KiB\n",
      "22/10/04 22:48:41 WARN DAGScheduler: Broadcasting large task binary with size 1663.1 KiB\n",
      "22/10/04 22:48:42 WARN DAGScheduler: Broadcasting large task binary with size 1663.1 KiB\n",
      "22/10/04 22:48:42 WARN DAGScheduler: Broadcasting large task binary with size 1663.1 KiB\n",
      "22/10/04 22:48:42 WARN DAGScheduler: Broadcasting large task binary with size 1663.1 KiB\n",
      "22/10/04 22:48:43 WARN DAGScheduler: Broadcasting large task binary with size 1663.1 KiB\n",
      "22/10/04 22:48:43 WARN DAGScheduler: Broadcasting large task binary with size 1663.1 KiB\n",
      "22/10/04 22:48:43 WARN DAGScheduler: Broadcasting large task binary with size 1663.1 KiB\n",
      "22/10/04 22:48:44 WARN DAGScheduler: Broadcasting large task binary with size 1663.1 KiB\n",
      "22/10/04 22:48:44 WARN DAGScheduler: Broadcasting large task binary with size 1663.1 KiB\n",
      "22/10/04 22:48:46 WARN DAGScheduler: Broadcasting large task binary with size 1747.2 KiB\n",
      "22/10/04 22:48:48 WARN DAGScheduler: Broadcasting large task binary with size 1542.5 KiB\n",
      "22/10/04 22:48:48 WARN DAGScheduler: Broadcasting large task binary with size 1524.7 KiB\n",
      "22/10/04 22:48:49 WARN DAGScheduler: Broadcasting large task binary with size 1661.3 KiB\n",
      "22/10/04 22:48:49 WARN DAGScheduler: Broadcasting large task binary with size 1663.0 KiB\n",
      "22/10/04 22:48:49 WARN DAGScheduler: Broadcasting large task binary with size 1663.0 KiB\n",
      "22/10/04 22:48:50 WARN DAGScheduler: Broadcasting large task binary with size 1663.0 KiB\n",
      "22/10/04 22:48:50 WARN DAGScheduler: Broadcasting large task binary with size 1663.0 KiB\n",
      "22/10/04 22:48:50 WARN DAGScheduler: Broadcasting large task binary with size 1663.0 KiB\n",
      "22/10/04 22:48:51 WARN DAGScheduler: Broadcasting large task binary with size 1683.7 KiB\n",
      "22/10/04 22:48:52 WARN DAGScheduler: Broadcasting large task binary with size 1542.5 KiB\n",
      "22/10/04 22:48:53 WARN DAGScheduler: Broadcasting large task binary with size 1524.7 KiB\n",
      "22/10/04 22:48:53 WARN DAGScheduler: Broadcasting large task binary with size 1661.3 KiB\n"
     ]
    },
    {
     "name": "stderr",
     "output_type": "stream",
     "text": [
      "                                                                                \r"
     ]
    },
    {
     "name": "stdout",
     "output_type": "stream",
     "text": [
      "22/10/04 22:48:54 WARN DAGScheduler: Broadcasting large task binary with size 1663.0 KiB\n",
      "22/10/04 22:48:55 WARN DAGScheduler: Broadcasting large task binary with size 1663.0 KiB\n",
      "22/10/04 22:48:55 WARN DAGScheduler: Broadcasting large task binary with size 1663.0 KiB\n",
      "22/10/04 22:48:55 WARN DAGScheduler: Broadcasting large task binary with size 1663.0 KiB\n",
      "22/10/04 22:48:55 WARN DAGScheduler: Broadcasting large task binary with size 1663.0 KiB\n",
      "22/10/04 22:48:55 WARN DAGScheduler: Broadcasting large task binary with size 1663.0 KiB\n",
      "22/10/04 22:48:56 WARN DAGScheduler: Broadcasting large task binary with size 1663.0 KiB\n",
      "22/10/04 22:48:56 WARN DAGScheduler: Broadcasting large task binary with size 1663.0 KiB\n",
      "22/10/04 22:48:56 WARN DAGScheduler: Broadcasting large task binary with size 1663.0 KiB\n",
      "22/10/04 22:48:56 WARN DAGScheduler: Broadcasting large task binary with size 1663.0 KiB\n",
      "22/10/04 22:48:56 WARN DAGScheduler: Broadcasting large task binary with size 1663.0 KiB\n",
      "22/10/04 22:48:57 WARN DAGScheduler: Broadcasting large task binary with size 1663.0 KiB\n",
      "22/10/04 22:48:57 WARN DAGScheduler: Broadcasting large task binary with size 1663.0 KiB\n",
      "22/10/04 22:48:57 WARN DAGScheduler: Broadcasting large task binary with size 1663.0 KiB\n",
      "22/10/04 22:48:58 WARN DAGScheduler: Broadcasting large task binary with size 1683.6 KiB\n",
      "22/10/04 22:48:59 WARN DAGScheduler: Broadcasting large task binary with size 1542.5 KiB\n",
      "22/10/04 22:49:00 WARN DAGScheduler: Broadcasting large task binary with size 1524.7 KiB\n",
      "22/10/04 22:49:00 WARN DAGScheduler: Broadcasting large task binary with size 1661.4 KiB\n",
      "22/10/04 22:49:00 WARN DAGScheduler: Broadcasting large task binary with size 1663.0 KiB\n",
      "22/10/04 22:49:01 WARN DAGScheduler: Broadcasting large task binary with size 1663.0 KiB\n",
      "22/10/04 22:49:02 WARN DAGScheduler: Broadcasting large task binary with size 2000.2 KiB\n",
      "22/10/04 22:49:03 WARN DAGScheduler: Broadcasting large task binary with size 1542.5 KiB\n",
      "22/10/04 22:49:03 WARN DAGScheduler: Broadcasting large task binary with size 1524.7 KiB\n",
      "22/10/04 22:49:04 WARN DAGScheduler: Broadcasting large task binary with size 1661.4 KiB\n",
      "22/10/04 22:49:04 WARN DAGScheduler: Broadcasting large task binary with size 1663.0 KiB\n",
      "22/10/04 22:49:04 WARN DAGScheduler: Broadcasting large task binary with size 1663.0 KiB\n",
      "22/10/04 22:49:04 WARN DAGScheduler: Broadcasting large task binary with size 1663.0 KiB\n",
      "22/10/04 22:49:05 WARN DAGScheduler: Broadcasting large task binary with size 1663.0 KiB\n",
      "22/10/04 22:49:05 WARN DAGScheduler: Broadcasting large task binary with size 1663.0 KiB\n",
      "22/10/04 22:49:05 WARN DAGScheduler: Broadcasting large task binary with size 1663.0 KiB\n",
      "22/10/04 22:49:05 WARN DAGScheduler: Broadcasting large task binary with size 1663.0 KiB\n",
      "22/10/04 22:49:05 WARN DAGScheduler: Broadcasting large task binary with size 1663.0 KiB\n",
      "22/10/04 22:49:05 WARN DAGScheduler: Broadcasting large task binary with size 1663.0 KiB\n",
      "22/10/04 22:49:05 WARN DAGScheduler: Broadcasting large task binary with size 1663.0 KiB\n",
      "22/10/04 22:49:05 WARN DAGScheduler: Broadcasting large task binary with size 1663.0 KiB\n",
      "22/10/04 22:49:06 WARN DAGScheduler: Broadcasting large task binary with size 2000.3 KiB\n",
      "22/10/04 22:49:08 WARN DAGScheduler: Broadcasting large task binary with size 1542.5 KiB\n",
      "22/10/04 22:49:08 WARN DAGScheduler: Broadcasting large task binary with size 1524.7 KiB\n",
      "22/10/04 22:49:09 WARN DAGScheduler: Broadcasting large task binary with size 1661.4 KiB\n",
      "22/10/04 22:49:09 WARN DAGScheduler: Broadcasting large task binary with size 1663.0 KiB\n",
      "22/10/04 22:49:09 WARN DAGScheduler: Broadcasting large task binary with size 1663.0 KiB\n",
      "22/10/04 22:49:10 WARN DAGScheduler: Broadcasting large task binary with size 1663.0 KiB\n",
      "22/10/04 22:49:10 WARN DAGScheduler: Broadcasting large task binary with size 1663.0 KiB\n",
      "22/10/04 22:49:10 WARN DAGScheduler: Broadcasting large task binary with size 1663.0 KiB\n",
      "22/10/04 22:49:10 WARN DAGScheduler: Broadcasting large task binary with size 1663.0 KiB\n",
      "22/10/04 22:49:12 WARN DAGScheduler: Broadcasting large task binary with size 1683.2 KiB\n",
      "22/10/04 22:49:13 WARN DAGScheduler: Broadcasting large task binary with size 1542.5 KiB\n",
      "22/10/04 22:49:14 WARN DAGScheduler: Broadcasting large task binary with size 1524.7 KiB\n",
      "22/10/04 22:49:14 WARN DAGScheduler: Broadcasting large task binary with size 1661.4 KiB\n"
     ]
    },
    {
     "name": "stderr",
     "output_type": "stream",
     "text": [
      "                                                                                \r"
     ]
    },
    {
     "name": "stdout",
     "output_type": "stream",
     "text": [
      "22/10/04 22:49:15 WARN DAGScheduler: Broadcasting large task binary with size 1663.0 KiB\n",
      "22/10/04 22:49:16 WARN DAGScheduler: Broadcasting large task binary with size 1663.0 KiB\n",
      "22/10/04 22:49:16 WARN DAGScheduler: Broadcasting large task binary with size 1663.0 KiB\n",
      "22/10/04 22:49:16 WARN DAGScheduler: Broadcasting large task binary with size 1663.0 KiB\n",
      "22/10/04 22:49:16 WARN DAGScheduler: Broadcasting large task binary with size 1663.0 KiB\n",
      "22/10/04 22:49:17 WARN DAGScheduler: Broadcasting large task binary with size 1663.0 KiB\n",
      "22/10/04 22:49:17 WARN DAGScheduler: Broadcasting large task binary with size 1663.0 KiB\n",
      "22/10/04 22:49:17 WARN DAGScheduler: Broadcasting large task binary with size 1663.0 KiB\n",
      "22/10/04 22:49:17 WARN DAGScheduler: Broadcasting large task binary with size 1663.0 KiB\n",
      "22/10/04 22:49:17 WARN DAGScheduler: Broadcasting large task binary with size 1663.0 KiB\n",
      "22/10/04 22:49:18 WARN DAGScheduler: Broadcasting large task binary with size 1663.0 KiB\n",
      "22/10/04 22:49:18 WARN DAGScheduler: Broadcasting large task binary with size 1663.0 KiB\n",
      "22/10/04 22:49:18 WARN DAGScheduler: Broadcasting large task binary with size 1663.0 KiB\n",
      "22/10/04 22:49:18 WARN DAGScheduler: Broadcasting large task binary with size 1663.0 KiB\n",
      "22/10/04 22:49:19 WARN DAGScheduler: Broadcasting large task binary with size 1663.0 KiB\n",
      "22/10/04 22:49:19 WARN DAGScheduler: Broadcasting large task binary with size 1663.0 KiB\n",
      "22/10/04 22:49:19 WARN DAGScheduler: Broadcasting large task binary with size 1663.0 KiB\n",
      "22/10/04 22:49:19 WARN DAGScheduler: Broadcasting large task binary with size 1663.0 KiB\n",
      "22/10/04 22:49:19 WARN DAGScheduler: Broadcasting large task binary with size 1663.0 KiB\n",
      "22/10/04 22:49:19 WARN DAGScheduler: Broadcasting large task binary with size 1663.0 KiB\n",
      "22/10/04 22:49:20 WARN DAGScheduler: Broadcasting large task binary with size 1663.0 KiB\n",
      "22/10/04 22:49:20 WARN DAGScheduler: Broadcasting large task binary with size 1663.0 KiB\n",
      "22/10/04 22:49:20 WARN DAGScheduler: Broadcasting large task binary with size 1663.0 KiB\n",
      "22/10/04 22:49:20 WARN DAGScheduler: Broadcasting large task binary with size 1663.0 KiB\n",
      "22/10/04 22:49:21 WARN DAGScheduler: Broadcasting large task binary with size 1683.3 KiB\n",
      "22/10/04 22:49:23 WARN DAGScheduler: Broadcasting large task binary with size 1542.5 KiB\n",
      "22/10/04 22:49:23 WARN DAGScheduler: Broadcasting large task binary with size 1524.7 KiB\n",
      "22/10/04 22:49:24 WARN DAGScheduler: Broadcasting large task binary with size 1661.5 KiB\n",
      "22/10/04 22:49:24 WARN DAGScheduler: Broadcasting large task binary with size 1663.1 KiB\n",
      "22/10/04 22:49:24 WARN DAGScheduler: Broadcasting large task binary with size 1663.1 KiB\n",
      "22/10/04 22:49:25 WARN DAGScheduler: Broadcasting large task binary with size 1663.1 KiB\n",
      "22/10/04 22:49:25 WARN DAGScheduler: Broadcasting large task binary with size 1663.1 KiB\n",
      "22/10/04 22:49:25 WARN DAGScheduler: Broadcasting large task binary with size 1663.1 KiB\n",
      "22/10/04 22:49:25 WARN DAGScheduler: Broadcasting large task binary with size 1663.1 KiB\n",
      "22/10/04 22:49:26 WARN DAGScheduler: Broadcasting large task binary with size 1683.2 KiB\n"
     ]
    },
    {
     "name": "stderr",
     "output_type": "stream",
     "text": [
      "                                                                                \r"
     ]
    },
    {
     "name": "stdout",
     "output_type": "stream",
     "text": [
      "22/10/04 22:49:28 WARN DAGScheduler: Broadcasting large task binary with size 1542.5 KiB\n",
      "22/10/04 22:49:29 WARN DAGScheduler: Broadcasting large task binary with size 1524.7 KiB\n",
      "22/10/04 22:49:29 WARN DAGScheduler: Broadcasting large task binary with size 1661.2 KiB\n",
      "22/10/04 22:49:29 WARN DAGScheduler: Broadcasting large task binary with size 1662.9 KiB\n",
      "22/10/04 22:49:30 WARN DAGScheduler: Broadcasting large task binary with size 1662.9 KiB\n",
      "22/10/04 22:49:30 WARN DAGScheduler: Broadcasting large task binary with size 1662.9 KiB\n",
      "22/10/04 22:49:30 WARN DAGScheduler: Broadcasting large task binary with size 1662.9 KiB\n",
      "22/10/04 22:49:30 WARN DAGScheduler: Broadcasting large task binary with size 1662.9 KiB\n",
      "22/10/04 22:49:30 WARN DAGScheduler: Broadcasting large task binary with size 1662.9 KiB\n",
      "22/10/04 22:49:30 WARN DAGScheduler: Broadcasting large task binary with size 1662.9 KiB\n",
      "22/10/04 22:49:31 WARN DAGScheduler: Broadcasting large task binary with size 1662.9 KiB\n",
      "22/10/04 22:49:31 WARN DAGScheduler: Broadcasting large task binary with size 1662.9 KiB\n",
      "22/10/04 22:49:31 WARN DAGScheduler: Broadcasting large task binary with size 1662.9 KiB\n",
      "22/10/04 22:49:31 WARN DAGScheduler: Broadcasting large task binary with size 1662.9 KiB\n",
      "22/10/04 22:49:32 WARN DAGScheduler: Broadcasting large task binary with size 1662.9 KiB\n",
      "22/10/04 22:49:32 WARN DAGScheduler: Broadcasting large task binary with size 1662.9 KiB\n",
      "22/10/04 22:49:32 WARN DAGScheduler: Broadcasting large task binary with size 1662.9 KiB\n",
      "22/10/04 22:49:32 WARN DAGScheduler: Broadcasting large task binary with size 1662.9 KiB\n",
      "22/10/04 22:49:32 WARN DAGScheduler: Broadcasting large task binary with size 1662.9 KiB\n",
      "22/10/04 22:49:33 WARN DAGScheduler: Broadcasting large task binary with size 1662.9 KiB\n",
      "22/10/04 22:49:33 WARN DAGScheduler: Broadcasting large task binary with size 1662.9 KiB\n",
      "22/10/04 22:49:33 WARN DAGScheduler: Broadcasting large task binary with size 1662.9 KiB\n",
      "22/10/04 22:49:33 WARN DAGScheduler: Broadcasting large task binary with size 1662.9 KiB\n",
      "22/10/04 22:49:33 WARN DAGScheduler: Broadcasting large task binary with size 1662.9 KiB\n",
      "22/10/04 22:49:33 WARN DAGScheduler: Broadcasting large task binary with size 1662.9 KiB\n",
      "22/10/04 22:49:34 WARN DAGScheduler: Broadcasting large task binary with size 1662.9 KiB\n",
      "22/10/04 22:49:34 WARN DAGScheduler: Broadcasting large task binary with size 1662.9 KiB\n",
      "22/10/04 22:49:35 WARN DAGScheduler: Broadcasting large task binary with size 1683.3 KiB\n",
      "22/10/04 22:49:36 WARN DAGScheduler: Broadcasting large task binary with size 1542.5 KiB\n",
      "22/10/04 22:49:37 WARN DAGScheduler: Broadcasting large task binary with size 1524.7 KiB\n",
      "22/10/04 22:49:37 WARN DAGScheduler: Broadcasting large task binary with size 1661.3 KiB\n"
     ]
    },
    {
     "name": "stderr",
     "output_type": "stream",
     "text": [
      "                                                                                \r"
     ]
    },
    {
     "name": "stdout",
     "output_type": "stream",
     "text": [
      "22/10/04 22:49:38 WARN DAGScheduler: Broadcasting large task binary with size 1663.0 KiB\n"
     ]
    },
    {
     "name": "stderr",
     "output_type": "stream",
     "text": [
      "                                                                                \r"
     ]
    },
    {
     "name": "stdout",
     "output_type": "stream",
     "text": [
      "22/10/04 22:49:39 WARN DAGScheduler: Broadcasting large task binary with size 1663.0 KiB\n",
      "22/10/04 22:49:39 WARN DAGScheduler: Broadcasting large task binary with size 1663.0 KiB\n",
      "22/10/04 22:49:40 WARN DAGScheduler: Broadcasting large task binary with size 2000.2 KiB\n",
      "22/10/04 22:49:41 WARN DAGScheduler: Broadcasting large task binary with size 1542.5 KiB\n",
      "22/10/04 22:49:42 WARN DAGScheduler: Broadcasting large task binary with size 1524.7 KiB\n",
      "22/10/04 22:49:42 WARN DAGScheduler: Broadcasting large task binary with size 1661.4 KiB\n",
      "22/10/04 22:49:43 WARN DAGScheduler: Broadcasting large task binary with size 1663.0 KiB\n",
      "22/10/04 22:49:43 WARN DAGScheduler: Broadcasting large task binary with size 1663.0 KiB\n",
      "22/10/04 22:49:43 WARN DAGScheduler: Broadcasting large task binary with size 1663.0 KiB\n",
      "22/10/04 22:49:43 WARN DAGScheduler: Broadcasting large task binary with size 1663.0 KiB\n",
      "22/10/04 22:49:44 WARN DAGScheduler: Broadcasting large task binary with size 1663.0 KiB\n",
      "22/10/04 22:49:44 WARN DAGScheduler: Broadcasting large task binary with size 1663.0 KiB\n",
      "22/10/04 22:49:44 WARN DAGScheduler: Broadcasting large task binary with size 1663.0 KiB\n",
      "22/10/04 22:49:44 WARN DAGScheduler: Broadcasting large task binary with size 1663.0 KiB\n",
      "22/10/04 22:49:44 WARN DAGScheduler: Broadcasting large task binary with size 1663.0 KiB\n",
      "22/10/04 22:49:44 WARN DAGScheduler: Broadcasting large task binary with size 1663.0 KiB\n",
      "22/10/04 22:49:44 WARN DAGScheduler: Broadcasting large task binary with size 1663.0 KiB\n",
      "22/10/04 22:49:45 WARN DAGScheduler: Broadcasting large task binary with size 1663.0 KiB\n",
      "22/10/04 22:49:45 WARN DAGScheduler: Broadcasting large task binary with size 1663.0 KiB\n",
      "22/10/04 22:49:45 WARN DAGScheduler: Broadcasting large task binary with size 1663.0 KiB\n",
      "22/10/04 22:49:46 WARN DAGScheduler: Broadcasting large task binary with size 2000.3 KiB\n",
      "22/10/04 22:49:47 WARN DAGScheduler: Broadcasting large task binary with size 1542.5 KiB\n",
      "22/10/04 22:49:48 WARN DAGScheduler: Broadcasting large task binary with size 1524.7 KiB\n",
      "22/10/04 22:49:48 WARN DAGScheduler: Broadcasting large task binary with size 1661.5 KiB\n",
      "22/10/04 22:49:48 WARN DAGScheduler: Broadcasting large task binary with size 1663.1 KiB\n",
      "22/10/04 22:49:49 WARN DAGScheduler: Broadcasting large task binary with size 1663.1 KiB\n",
      "22/10/04 22:49:49 WARN DAGScheduler: Broadcasting large task binary with size 1663.1 KiB\n",
      "22/10/04 22:49:49 WARN DAGScheduler: Broadcasting large task binary with size 1663.1 KiB\n",
      "22/10/04 22:49:49 WARN DAGScheduler: Broadcasting large task binary with size 1663.1 KiB\n",
      "22/10/04 22:49:49 WARN DAGScheduler: Broadcasting large task binary with size 1663.1 KiB\n",
      "22/10/04 22:49:50 WARN DAGScheduler: Broadcasting large task binary with size 1683.2 KiB\n"
     ]
    },
    {
     "name": "stderr",
     "output_type": "stream",
     "text": [
      "                                                                                \r"
     ]
    },
    {
     "name": "stdout",
     "output_type": "stream",
     "text": [
      "22/10/04 22:49:52 WARN DAGScheduler: Broadcasting large task binary with size 1542.5 KiB\n",
      "22/10/04 22:49:52 WARN DAGScheduler: Broadcasting large task binary with size 1524.7 KiB\n",
      "22/10/04 22:49:53 WARN DAGScheduler: Broadcasting large task binary with size 1661.4 KiB\n",
      "22/10/04 22:49:53 WARN DAGScheduler: Broadcasting large task binary with size 1663.0 KiB\n",
      "22/10/04 22:49:53 WARN DAGScheduler: Broadcasting large task binary with size 1663.0 KiB\n",
      "22/10/04 22:49:53 WARN DAGScheduler: Broadcasting large task binary with size 1663.0 KiB\n",
      "22/10/04 22:49:53 WARN DAGScheduler: Broadcasting large task binary with size 1663.0 KiB\n",
      "22/10/04 22:49:54 WARN DAGScheduler: Broadcasting large task binary with size 1663.0 KiB\n",
      "22/10/04 22:49:54 WARN DAGScheduler: Broadcasting large task binary with size 1663.0 KiB\n",
      "22/10/04 22:49:54 WARN DAGScheduler: Broadcasting large task binary with size 1663.0 KiB\n",
      "22/10/04 22:49:54 WARN DAGScheduler: Broadcasting large task binary with size 1663.0 KiB\n",
      "22/10/04 22:49:54 WARN DAGScheduler: Broadcasting large task binary with size 1663.0 KiB\n",
      "22/10/04 22:49:54 WARN DAGScheduler: Broadcasting large task binary with size 1663.0 KiB\n",
      "22/10/04 22:49:54 WARN DAGScheduler: Broadcasting large task binary with size 1663.0 KiB\n",
      "22/10/04 22:49:55 WARN DAGScheduler: Broadcasting large task binary with size 1663.0 KiB\n",
      "22/10/04 22:49:55 WARN DAGScheduler: Broadcasting large task binary with size 1663.0 KiB\n",
      "22/10/04 22:49:55 WARN DAGScheduler: Broadcasting large task binary with size 1663.0 KiB\n",
      "22/10/04 22:49:55 WARN DAGScheduler: Broadcasting large task binary with size 1663.0 KiB\n",
      "22/10/04 22:49:55 WARN DAGScheduler: Broadcasting large task binary with size 1663.0 KiB\n",
      "22/10/04 22:49:55 WARN DAGScheduler: Broadcasting large task binary with size 1663.0 KiB\n",
      "22/10/04 22:49:55 WARN DAGScheduler: Broadcasting large task binary with size 1663.0 KiB\n",
      "22/10/04 22:49:56 WARN DAGScheduler: Broadcasting large task binary with size 1663.0 KiB\n",
      "22/10/04 22:49:56 WARN DAGScheduler: Broadcasting large task binary with size 1663.0 KiB\n",
      "22/10/04 22:49:56 WARN DAGScheduler: Broadcasting large task binary with size 1663.0 KiB\n",
      "22/10/04 22:49:56 WARN DAGScheduler: Broadcasting large task binary with size 1663.0 KiB\n",
      "22/10/04 22:49:56 WARN DAGScheduler: Broadcasting large task binary with size 1663.0 KiB\n",
      "22/10/04 22:49:56 WARN DAGScheduler: Broadcasting large task binary with size 1663.0 KiB\n",
      "22/10/04 22:49:57 WARN DAGScheduler: Broadcasting large task binary with size 1683.3 KiB\n",
      "22/10/04 22:49:58 WARN DAGScheduler: Broadcasting large task binary with size 1542.5 KiB\n",
      "22/10/04 22:49:58 WARN DAGScheduler: Broadcasting large task binary with size 1524.7 KiB\n",
      "22/10/04 22:49:58 WARN DAGScheduler: Broadcasting large task binary with size 1661.4 KiB\n",
      "22/10/04 22:49:59 WARN DAGScheduler: Broadcasting large task binary with size 1663.0 KiB\n",
      "22/10/04 22:49:59 WARN DAGScheduler: Broadcasting large task binary with size 1663.0 KiB\n",
      "22/10/04 22:49:59 WARN DAGScheduler: Broadcasting large task binary with size 1663.0 KiB\n",
      "22/10/04 22:49:59 WARN DAGScheduler: Broadcasting large task binary with size 1663.0 KiB\n",
      "22/10/04 22:49:59 WARN DAGScheduler: Broadcasting large task binary with size 1663.0 KiB\n",
      "22/10/04 22:49:59 WARN DAGScheduler: Broadcasting large task binary with size 1663.0 KiB\n",
      "22/10/04 22:50:00 WARN DAGScheduler: Broadcasting large task binary with size 1683.2 KiB\n",
      "22/10/04 22:50:01 WARN DAGScheduler: Broadcasting large task binary with size 1542.5 KiB\n"
     ]
    },
    {
     "name": "stderr",
     "output_type": "stream",
     "text": [
      "                                                                                \r"
     ]
    },
    {
     "name": "stdout",
     "output_type": "stream",
     "text": [
      "22/10/04 22:50:02 WARN DAGScheduler: Broadcasting large task binary with size 1524.7 KiB\n",
      "22/10/04 22:50:02 WARN DAGScheduler: Broadcasting large task binary with size 1661.3 KiB\n",
      "22/10/04 22:50:02 WARN DAGScheduler: Broadcasting large task binary with size 1663.0 KiB\n",
      "22/10/04 22:50:02 WARN DAGScheduler: Broadcasting large task binary with size 1663.0 KiB\n",
      "22/10/04 22:50:03 WARN DAGScheduler: Broadcasting large task binary with size 1663.0 KiB\n",
      "22/10/04 22:50:03 WARN DAGScheduler: Broadcasting large task binary with size 1663.0 KiB\n",
      "22/10/04 22:50:03 WARN DAGScheduler: Broadcasting large task binary with size 1663.0 KiB\n",
      "22/10/04 22:50:03 WARN DAGScheduler: Broadcasting large task binary with size 1663.0 KiB\n",
      "22/10/04 22:50:03 WARN DAGScheduler: Broadcasting large task binary with size 1663.0 KiB\n",
      "22/10/04 22:50:03 WARN DAGScheduler: Broadcasting large task binary with size 1663.0 KiB\n",
      "22/10/04 22:50:03 WARN DAGScheduler: Broadcasting large task binary with size 1663.0 KiB\n",
      "22/10/04 22:50:04 WARN DAGScheduler: Broadcasting large task binary with size 1663.0 KiB\n",
      "22/10/04 22:50:04 WARN DAGScheduler: Broadcasting large task binary with size 1663.0 KiB\n",
      "22/10/04 22:50:04 WARN DAGScheduler: Broadcasting large task binary with size 1663.0 KiB\n",
      "22/10/04 22:50:04 WARN DAGScheduler: Broadcasting large task binary with size 1663.0 KiB\n",
      "22/10/04 22:50:04 WARN DAGScheduler: Broadcasting large task binary with size 1663.0 KiB\n",
      "22/10/04 22:50:05 WARN DAGScheduler: Broadcasting large task binary with size 1663.0 KiB\n",
      "22/10/04 22:50:05 WARN DAGScheduler: Broadcasting large task binary with size 1663.0 KiB\n",
      "22/10/04 22:50:05 WARN DAGScheduler: Broadcasting large task binary with size 1663.0 KiB\n",
      "22/10/04 22:50:05 WARN DAGScheduler: Broadcasting large task binary with size 1663.0 KiB\n",
      "22/10/04 22:50:06 WARN DAGScheduler: Broadcasting large task binary with size 1663.0 KiB\n",
      "22/10/04 22:50:06 WARN DAGScheduler: Broadcasting large task binary with size 1663.0 KiB\n",
      "22/10/04 22:50:06 WARN DAGScheduler: Broadcasting large task binary with size 1663.0 KiB\n",
      "22/10/04 22:50:06 WARN DAGScheduler: Broadcasting large task binary with size 1663.0 KiB\n",
      "22/10/04 22:50:06 WARN DAGScheduler: Broadcasting large task binary with size 1663.0 KiB\n",
      "22/10/04 22:50:07 WARN DAGScheduler: Broadcasting large task binary with size 1663.0 KiB\n",
      "22/10/04 22:50:07 WARN DAGScheduler: Broadcasting large task binary with size 1683.3 KiB\n",
      "22/10/04 22:50:09 WARN DAGScheduler: Broadcasting large task binary with size 1543.4 KiB\n",
      "22/10/04 22:50:09 WARN DAGScheduler: Broadcasting large task binary with size 1525.6 KiB\n",
      "22/10/04 22:50:10 WARN DAGScheduler: Broadcasting large task binary with size 1662.3 KiB\n",
      "22/10/04 22:50:10 WARN DAGScheduler: Broadcasting large task binary with size 1664.0 KiB\n",
      "22/10/04 22:50:10 WARN DAGScheduler: Broadcasting large task binary with size 1664.0 KiB\n",
      "22/10/04 22:50:11 WARN DAGScheduler: Broadcasting large task binary with size 2001.4 KiB\n",
      "22/10/04 22:50:13 WARN DAGScheduler: Broadcasting large task binary with size 1543.4 KiB\n",
      "22/10/04 22:50:13 WARN DAGScheduler: Broadcasting large task binary with size 1525.6 KiB\n",
      "22/10/04 22:50:13 WARN DAGScheduler: Broadcasting large task binary with size 1662.3 KiB\n",
      "22/10/04 22:50:13 WARN DAGScheduler: Broadcasting large task binary with size 1664.0 KiB\n",
      "22/10/04 22:50:14 WARN DAGScheduler: Broadcasting large task binary with size 1664.0 KiB\n",
      "22/10/04 22:50:14 WARN DAGScheduler: Broadcasting large task binary with size 1664.0 KiB\n",
      "22/10/04 22:50:15 WARN DAGScheduler: Broadcasting large task binary with size 1664.0 KiB\n",
      "22/10/04 22:50:15 WARN DAGScheduler: Broadcasting large task binary with size 1664.0 KiB\n",
      "22/10/04 22:50:15 WARN DAGScheduler: Broadcasting large task binary with size 1664.0 KiB\n",
      "22/10/04 22:50:15 WARN DAGScheduler: Broadcasting large task binary with size 1664.0 KiB\n",
      "22/10/04 22:50:16 WARN DAGScheduler: Broadcasting large task binary with size 1664.0 KiB\n",
      "22/10/04 22:50:16 WARN DAGScheduler: Broadcasting large task binary with size 1664.0 KiB\n",
      "22/10/04 22:50:16 WARN DAGScheduler: Broadcasting large task binary with size 1664.0 KiB\n",
      "22/10/04 22:50:17 WARN DAGScheduler: Broadcasting large task binary with size 1664.0 KiB\n",
      "22/10/04 22:50:18 WARN DAGScheduler: Broadcasting large task binary with size 2001.4 KiB\n",
      "22/10/04 22:50:20 WARN DAGScheduler: Broadcasting large task binary with size 1543.4 KiB\n",
      "22/10/04 22:50:21 WARN DAGScheduler: Broadcasting large task binary with size 1525.6 KiB\n",
      "22/10/04 22:50:21 WARN DAGScheduler: Broadcasting large task binary with size 1662.4 KiB\n",
      "22/10/04 22:50:22 WARN DAGScheduler: Broadcasting large task binary with size 1664.0 KiB\n"
     ]
    },
    {
     "name": "stderr",
     "output_type": "stream",
     "text": [
      "                                                                                \r"
     ]
    },
    {
     "name": "stdout",
     "output_type": "stream",
     "text": [
      "22/10/04 22:50:22 WARN DAGScheduler: Broadcasting large task binary with size 1664.0 KiB\n",
      "22/10/04 22:50:23 WARN DAGScheduler: Broadcasting large task binary with size 1664.0 KiB\n",
      "22/10/04 22:50:23 WARN DAGScheduler: Broadcasting large task binary with size 1664.0 KiB\n",
      "22/10/04 22:50:24 WARN DAGScheduler: Broadcasting large task binary with size 1664.0 KiB\n",
      "22/10/04 22:50:26 WARN DAGScheduler: Broadcasting large task binary with size 1789.3 KiB\n",
      "22/10/04 22:50:29 WARN DAGScheduler: Broadcasting large task binary with size 1543.4 KiB\n",
      "22/10/04 22:50:30 WARN DAGScheduler: Broadcasting large task binary with size 1525.6 KiB\n",
      "22/10/04 22:50:30 WARN DAGScheduler: Broadcasting large task binary with size 1662.3 KiB\n"
     ]
    },
    {
     "name": "stderr",
     "output_type": "stream",
     "text": [
      "                                                                                \r"
     ]
    },
    {
     "name": "stdout",
     "output_type": "stream",
     "text": [
      "22/10/04 22:50:31 WARN DAGScheduler: Broadcasting large task binary with size 1663.9 KiB\n"
     ]
    },
    {
     "name": "stderr",
     "output_type": "stream",
     "text": [
      "                                                                                \r"
     ]
    },
    {
     "name": "stdout",
     "output_type": "stream",
     "text": [
      "22/10/04 22:50:32 WARN DAGScheduler: Broadcasting large task binary with size 1663.9 KiB\n",
      "22/10/04 22:50:32 WARN DAGScheduler: Broadcasting large task binary with size 1663.9 KiB\n",
      "22/10/04 22:50:32 WARN DAGScheduler: Broadcasting large task binary with size 1663.9 KiB\n",
      "22/10/04 22:50:32 WARN DAGScheduler: Broadcasting large task binary with size 1663.9 KiB\n",
      "22/10/04 22:50:33 WARN DAGScheduler: Broadcasting large task binary with size 1663.9 KiB\n",
      "22/10/04 22:50:33 WARN DAGScheduler: Broadcasting large task binary with size 1663.9 KiB\n",
      "22/10/04 22:50:33 WARN DAGScheduler: Broadcasting large task binary with size 1663.9 KiB\n",
      "22/10/04 22:50:34 WARN DAGScheduler: Broadcasting large task binary with size 1663.9 KiB\n",
      "22/10/04 22:50:34 WARN DAGScheduler: Broadcasting large task binary with size 1663.9 KiB\n",
      "22/10/04 22:50:35 WARN DAGScheduler: Broadcasting large task binary with size 1663.9 KiB\n",
      "22/10/04 22:50:35 WARN DAGScheduler: Broadcasting large task binary with size 1663.9 KiB\n",
      "22/10/04 22:50:37 WARN DAGScheduler: Broadcasting large task binary with size 1663.9 KiB\n",
      "22/10/04 22:50:37 WARN DAGScheduler: Broadcasting large task binary with size 1663.9 KiB\n",
      "22/10/04 22:50:39 WARN DAGScheduler: Broadcasting large task binary with size 1747.7 KiB\n",
      "22/10/04 22:50:42 WARN DAGScheduler: Broadcasting large task binary with size 1543.4 KiB\n",
      "22/10/04 22:50:43 WARN DAGScheduler: Broadcasting large task binary with size 1525.6 KiB\n",
      "22/10/04 22:50:44 WARN DAGScheduler: Broadcasting large task binary with size 1662.3 KiB\n",
      "22/10/04 22:50:44 WARN DAGScheduler: Broadcasting large task binary with size 1663.9 KiB\n",
      "22/10/04 22:50:45 WARN DAGScheduler: Broadcasting large task binary with size 1663.9 KiB\n",
      "22/10/04 22:50:45 WARN DAGScheduler: Broadcasting large task binary with size 1663.9 KiB\n",
      "22/10/04 22:50:45 WARN DAGScheduler: Broadcasting large task binary with size 1663.9 KiB\n",
      "22/10/04 22:50:45 WARN DAGScheduler: Broadcasting large task binary with size 1663.9 KiB\n",
      "22/10/04 22:50:46 WARN DAGScheduler: Broadcasting large task binary with size 1684.6 KiB\n",
      "22/10/04 22:50:47 WARN DAGScheduler: Broadcasting large task binary with size 1543.4 KiB\n",
      "22/10/04 22:50:47 WARN DAGScheduler: Broadcasting large task binary with size 1525.6 KiB\n",
      "22/10/04 22:50:48 WARN DAGScheduler: Broadcasting large task binary with size 1662.3 KiB\n",
      "22/10/04 22:50:48 WARN DAGScheduler: Broadcasting large task binary with size 1664.0 KiB\n",
      "22/10/04 22:50:49 WARN DAGScheduler: Broadcasting large task binary with size 1664.0 KiB\n",
      "22/10/04 22:50:49 WARN DAGScheduler: Broadcasting large task binary with size 1664.0 KiB\n",
      "22/10/04 22:50:49 WARN DAGScheduler: Broadcasting large task binary with size 1664.0 KiB\n",
      "22/10/04 22:50:49 WARN DAGScheduler: Broadcasting large task binary with size 1664.0 KiB\n",
      "22/10/04 22:50:49 WARN DAGScheduler: Broadcasting large task binary with size 1664.0 KiB\n",
      "22/10/04 22:50:49 WARN DAGScheduler: Broadcasting large task binary with size 1664.0 KiB\n",
      "22/10/04 22:50:50 WARN DAGScheduler: Broadcasting large task binary with size 1664.0 KiB\n",
      "22/10/04 22:50:50 WARN DAGScheduler: Broadcasting large task binary with size 1664.0 KiB\n",
      "22/10/04 22:50:50 WARN DAGScheduler: Broadcasting large task binary with size 1664.0 KiB\n",
      "22/10/04 22:50:50 WARN DAGScheduler: Broadcasting large task binary with size 1664.0 KiB\n",
      "22/10/04 22:50:51 WARN DAGScheduler: Broadcasting large task binary with size 1664.0 KiB\n",
      "22/10/04 22:50:51 WARN DAGScheduler: Broadcasting large task binary with size 1664.0 KiB\n",
      "22/10/04 22:50:51 WARN DAGScheduler: Broadcasting large task binary with size 1664.0 KiB\n",
      "22/10/04 22:50:52 WARN DAGScheduler: Broadcasting large task binary with size 1684.6 KiB\n",
      "22/10/04 22:50:53 WARN DAGScheduler: Broadcasting large task binary with size 1543.4 KiB\n",
      "22/10/04 22:50:54 WARN DAGScheduler: Broadcasting large task binary with size 1525.6 KiB\n",
      "22/10/04 22:50:54 WARN DAGScheduler: Broadcasting large task binary with size 1662.4 KiB\n",
      "22/10/04 22:50:54 WARN DAGScheduler: Broadcasting large task binary with size 1664.1 KiB\n",
      "22/10/04 22:50:54 WARN DAGScheduler: Broadcasting large task binary with size 1664.1 KiB\n",
      "22/10/04 22:50:55 WARN DAGScheduler: Broadcasting large task binary with size 2001.4 KiB\n",
      "22/10/04 22:50:57 WARN DAGScheduler: Broadcasting large task binary with size 1543.4 KiB\n"
     ]
    },
    {
     "name": "stderr",
     "output_type": "stream",
     "text": [
      "[Stage 698:>                                                        (0 + 1) / 1]\r"
     ]
    },
    {
     "name": "stdout",
     "output_type": "stream",
     "text": [
      "22/10/04 22:50:58 WARN DAGScheduler: Broadcasting large task binary with size 1525.6 KiB\n"
     ]
    },
    {
     "name": "stderr",
     "output_type": "stream",
     "text": [
      "                                                                                \r"
     ]
    },
    {
     "name": "stdout",
     "output_type": "stream",
     "text": [
      "22/10/04 22:50:58 WARN DAGScheduler: Broadcasting large task binary with size 1662.4 KiB\n",
      "22/10/04 22:50:58 WARN DAGScheduler: Broadcasting large task binary with size 1664.1 KiB\n",
      "22/10/04 22:50:58 WARN DAGScheduler: Broadcasting large task binary with size 1664.1 KiB\n",
      "22/10/04 22:50:58 WARN DAGScheduler: Broadcasting large task binary with size 1664.1 KiB\n",
      "22/10/04 22:50:59 WARN DAGScheduler: Broadcasting large task binary with size 1664.1 KiB\n",
      "22/10/04 22:50:59 WARN DAGScheduler: Broadcasting large task binary with size 1664.1 KiB\n",
      "22/10/04 22:50:59 WARN DAGScheduler: Broadcasting large task binary with size 1664.1 KiB\n",
      "22/10/04 22:50:59 WARN DAGScheduler: Broadcasting large task binary with size 1664.1 KiB\n",
      "22/10/04 22:50:59 WARN DAGScheduler: Broadcasting large task binary with size 1664.1 KiB\n",
      "22/10/04 22:50:59 WARN DAGScheduler: Broadcasting large task binary with size 1664.1 KiB\n",
      "22/10/04 22:50:59 WARN DAGScheduler: Broadcasting large task binary with size 1664.1 KiB\n",
      "22/10/04 22:50:59 WARN DAGScheduler: Broadcasting large task binary with size 1664.1 KiB\n",
      "22/10/04 22:51:00 WARN DAGScheduler: Broadcasting large task binary with size 2001.4 KiB\n",
      "22/10/04 22:51:02 WARN DAGScheduler: Broadcasting large task binary with size 1543.4 KiB\n",
      "22/10/04 22:51:02 WARN DAGScheduler: Broadcasting large task binary with size 1525.6 KiB\n",
      "22/10/04 22:51:02 WARN DAGScheduler: Broadcasting large task binary with size 1662.4 KiB\n",
      "22/10/04 22:51:03 WARN DAGScheduler: Broadcasting large task binary with size 1664.0 KiB\n",
      "22/10/04 22:51:03 WARN DAGScheduler: Broadcasting large task binary with size 1664.0 KiB\n",
      "22/10/04 22:51:03 WARN DAGScheduler: Broadcasting large task binary with size 1664.0 KiB\n",
      "22/10/04 22:51:03 WARN DAGScheduler: Broadcasting large task binary with size 1664.0 KiB\n",
      "22/10/04 22:51:04 WARN DAGScheduler: Broadcasting large task binary with size 1664.0 KiB\n",
      "22/10/04 22:51:04 WARN DAGScheduler: Broadcasting large task binary with size 1664.0 KiB\n",
      "22/10/04 22:51:04 WARN DAGScheduler: Broadcasting large task binary with size 1684.2 KiB\n",
      "22/10/04 22:51:07 WARN DAGScheduler: Broadcasting large task binary with size 1543.4 KiB\n",
      "22/10/04 22:51:07 WARN DAGScheduler: Broadcasting large task binary with size 1525.6 KiB\n",
      "22/10/04 22:51:08 WARN DAGScheduler: Broadcasting large task binary with size 1662.3 KiB\n"
     ]
    },
    {
     "name": "stderr",
     "output_type": "stream",
     "text": [
      "                                                                                \r"
     ]
    },
    {
     "name": "stdout",
     "output_type": "stream",
     "text": [
      "22/10/04 22:51:09 WARN DAGScheduler: Broadcasting large task binary with size 1663.9 KiB\n",
      "22/10/04 22:51:09 WARN DAGScheduler: Broadcasting large task binary with size 1663.9 KiB\n",
      "22/10/04 22:51:09 WARN DAGScheduler: Broadcasting large task binary with size 1663.9 KiB\n",
      "22/10/04 22:51:09 WARN DAGScheduler: Broadcasting large task binary with size 1663.9 KiB\n",
      "22/10/04 22:51:09 WARN DAGScheduler: Broadcasting large task binary with size 1663.9 KiB\n",
      "22/10/04 22:51:10 WARN DAGScheduler: Broadcasting large task binary with size 1663.9 KiB\n",
      "22/10/04 22:51:10 WARN DAGScheduler: Broadcasting large task binary with size 1663.9 KiB\n",
      "22/10/04 22:51:10 WARN DAGScheduler: Broadcasting large task binary with size 1663.9 KiB\n",
      "22/10/04 22:51:11 WARN DAGScheduler: Broadcasting large task binary with size 1663.9 KiB\n",
      "22/10/04 22:51:11 WARN DAGScheduler: Broadcasting large task binary with size 1663.9 KiB\n",
      "22/10/04 22:51:11 WARN DAGScheduler: Broadcasting large task binary with size 1663.9 KiB\n",
      "22/10/04 22:51:12 WARN DAGScheduler: Broadcasting large task binary with size 1663.9 KiB\n",
      "22/10/04 22:51:12 WARN DAGScheduler: Broadcasting large task binary with size 1663.9 KiB\n",
      "22/10/04 22:51:12 WARN DAGScheduler: Broadcasting large task binary with size 1663.9 KiB\n",
      "22/10/04 22:51:12 WARN DAGScheduler: Broadcasting large task binary with size 1663.9 KiB\n",
      "22/10/04 22:51:12 WARN DAGScheduler: Broadcasting large task binary with size 1663.9 KiB\n",
      "22/10/04 22:51:13 WARN DAGScheduler: Broadcasting large task binary with size 1663.9 KiB\n",
      "22/10/04 22:51:13 WARN DAGScheduler: Broadcasting large task binary with size 1663.9 KiB\n",
      "22/10/04 22:51:13 WARN DAGScheduler: Broadcasting large task binary with size 1663.9 KiB\n",
      "22/10/04 22:51:13 WARN DAGScheduler: Broadcasting large task binary with size 1663.9 KiB\n",
      "22/10/04 22:51:13 WARN DAGScheduler: Broadcasting large task binary with size 1663.9 KiB\n",
      "22/10/04 22:51:14 WARN DAGScheduler: Broadcasting large task binary with size 1663.9 KiB\n",
      "22/10/04 22:51:14 WARN DAGScheduler: Broadcasting large task binary with size 1663.9 KiB\n",
      "22/10/04 22:51:14 WARN DAGScheduler: Broadcasting large task binary with size 1663.9 KiB\n",
      "22/10/04 22:51:15 WARN DAGScheduler: Broadcasting large task binary with size 1684.3 KiB\n",
      "22/10/04 22:51:17 WARN DAGScheduler: Broadcasting large task binary with size 1543.4 KiB\n",
      "22/10/04 22:51:17 WARN DAGScheduler: Broadcasting large task binary with size 1525.6 KiB\n",
      "22/10/04 22:51:17 WARN DAGScheduler: Broadcasting large task binary with size 1662.4 KiB\n",
      "22/10/04 22:51:18 WARN DAGScheduler: Broadcasting large task binary with size 1664.1 KiB\n",
      "22/10/04 22:51:18 WARN DAGScheduler: Broadcasting large task binary with size 1664.1 KiB\n",
      "22/10/04 22:51:19 WARN DAGScheduler: Broadcasting large task binary with size 1664.1 KiB\n",
      "22/10/04 22:51:19 WARN DAGScheduler: Broadcasting large task binary with size 1664.1 KiB\n",
      "22/10/04 22:51:19 WARN DAGScheduler: Broadcasting large task binary with size 1664.1 KiB\n",
      "22/10/04 22:51:19 WARN DAGScheduler: Broadcasting large task binary with size 1664.1 KiB\n",
      "22/10/04 22:51:20 WARN DAGScheduler: Broadcasting large task binary with size 1684.2 KiB\n",
      "22/10/04 22:51:21 WARN DAGScheduler: Broadcasting large task binary with size 1543.4 KiB\n",
      "22/10/04 22:51:22 WARN DAGScheduler: Broadcasting large task binary with size 1525.6 KiB\n",
      "22/10/04 22:51:22 WARN DAGScheduler: Broadcasting large task binary with size 1662.3 KiB\n",
      "22/10/04 22:51:22 WARN DAGScheduler: Broadcasting large task binary with size 1663.9 KiB\n",
      "22/10/04 22:51:23 WARN DAGScheduler: Broadcasting large task binary with size 1663.9 KiB\n",
      "22/10/04 22:51:23 WARN DAGScheduler: Broadcasting large task binary with size 1663.9 KiB\n",
      "22/10/04 22:51:23 WARN DAGScheduler: Broadcasting large task binary with size 1663.9 KiB\n",
      "22/10/04 22:51:23 WARN DAGScheduler: Broadcasting large task binary with size 1663.9 KiB\n",
      "22/10/04 22:51:23 WARN DAGScheduler: Broadcasting large task binary with size 1663.9 KiB\n",
      "22/10/04 22:51:24 WARN DAGScheduler: Broadcasting large task binary with size 1663.9 KiB\n",
      "22/10/04 22:51:24 WARN DAGScheduler: Broadcasting large task binary with size 1663.9 KiB\n",
      "22/10/04 22:51:24 WARN DAGScheduler: Broadcasting large task binary with size 1663.9 KiB\n",
      "22/10/04 22:51:24 WARN DAGScheduler: Broadcasting large task binary with size 1663.9 KiB\n",
      "22/10/04 22:51:24 WARN DAGScheduler: Broadcasting large task binary with size 1663.9 KiB\n",
      "22/10/04 22:51:24 WARN DAGScheduler: Broadcasting large task binary with size 1663.9 KiB\n",
      "22/10/04 22:51:25 WARN DAGScheduler: Broadcasting large task binary with size 1663.9 KiB\n",
      "22/10/04 22:51:25 WARN DAGScheduler: Broadcasting large task binary with size 1663.9 KiB\n",
      "22/10/04 22:51:25 WARN DAGScheduler: Broadcasting large task binary with size 1663.9 KiB\n",
      "22/10/04 22:51:25 WARN DAGScheduler: Broadcasting large task binary with size 1663.9 KiB\n",
      "22/10/04 22:51:25 WARN DAGScheduler: Broadcasting large task binary with size 1663.9 KiB\n",
      "22/10/04 22:51:25 WARN DAGScheduler: Broadcasting large task binary with size 1663.9 KiB\n",
      "22/10/04 22:51:26 WARN DAGScheduler: Broadcasting large task binary with size 1663.9 KiB\n",
      "22/10/04 22:51:26 WARN DAGScheduler: Broadcasting large task binary with size 1663.9 KiB\n",
      "22/10/04 22:51:26 WARN DAGScheduler: Broadcasting large task binary with size 1663.9 KiB\n",
      "22/10/04 22:51:26 WARN DAGScheduler: Broadcasting large task binary with size 1663.9 KiB\n",
      "22/10/04 22:51:26 WARN DAGScheduler: Broadcasting large task binary with size 1663.9 KiB\n",
      "22/10/04 22:51:26 WARN DAGScheduler: Broadcasting large task binary with size 1663.9 KiB\n",
      "22/10/04 22:51:27 WARN DAGScheduler: Broadcasting large task binary with size 1684.3 KiB\n",
      "22/10/04 22:51:29 WARN DAGScheduler: Broadcasting large task binary with size 1543.4 KiB\n",
      "22/10/04 22:51:29 WARN DAGScheduler: Broadcasting large task binary with size 1525.6 KiB\n",
      "22/10/04 22:51:29 WARN DAGScheduler: Broadcasting large task binary with size 1662.3 KiB\n",
      "22/10/04 22:51:30 WARN DAGScheduler: Broadcasting large task binary with size 1664.0 KiB\n",
      "22/10/04 22:51:30 WARN DAGScheduler: Broadcasting large task binary with size 1664.0 KiB\n",
      "22/10/04 22:51:30 WARN DAGScheduler: Broadcasting large task binary with size 1664.0 KiB\n",
      "22/10/04 22:51:31 WARN DAGScheduler: Broadcasting large task binary with size 2001.4 KiB\n"
     ]
    },
    {
     "name": "stderr",
     "output_type": "stream",
     "text": [
      "                                                                                \r"
     ]
    },
    {
     "name": "stdout",
     "output_type": "stream",
     "text": [
      "22/10/04 22:51:33 WARN DAGScheduler: Broadcasting large task binary with size 1543.4 KiB\n",
      "22/10/04 22:51:33 WARN DAGScheduler: Broadcasting large task binary with size 1525.6 KiB\n",
      "22/10/04 22:51:34 WARN DAGScheduler: Broadcasting large task binary with size 1662.4 KiB\n",
      "22/10/04 22:51:34 WARN DAGScheduler: Broadcasting large task binary with size 1664.1 KiB\n",
      "22/10/04 22:51:35 WARN DAGScheduler: Broadcasting large task binary with size 1664.1 KiB\n",
      "22/10/04 22:51:35 WARN DAGScheduler: Broadcasting large task binary with size 1664.1 KiB\n",
      "22/10/04 22:51:35 WARN DAGScheduler: Broadcasting large task binary with size 1664.1 KiB\n",
      "22/10/04 22:51:36 WARN DAGScheduler: Broadcasting large task binary with size 1664.1 KiB\n",
      "22/10/04 22:51:36 WARN DAGScheduler: Broadcasting large task binary with size 1664.1 KiB\n",
      "22/10/04 22:51:36 WARN DAGScheduler: Broadcasting large task binary with size 1664.1 KiB\n",
      "22/10/04 22:51:36 WARN DAGScheduler: Broadcasting large task binary with size 1664.1 KiB\n",
      "22/10/04 22:51:36 WARN DAGScheduler: Broadcasting large task binary with size 1664.1 KiB\n",
      "22/10/04 22:51:37 WARN DAGScheduler: Broadcasting large task binary with size 1664.1 KiB\n",
      "22/10/04 22:51:37 WARN DAGScheduler: Broadcasting large task binary with size 1664.1 KiB\n",
      "22/10/04 22:51:37 WARN DAGScheduler: Broadcasting large task binary with size 1664.1 KiB\n",
      "22/10/04 22:51:37 WARN DAGScheduler: Broadcasting large task binary with size 1664.1 KiB\n",
      "22/10/04 22:51:37 WARN DAGScheduler: Broadcasting large task binary with size 1664.1 KiB\n",
      "22/10/04 22:51:38 WARN DAGScheduler: Broadcasting large task binary with size 2001.4 KiB\n",
      "22/10/04 22:51:39 WARN DAGScheduler: Broadcasting large task binary with size 1543.4 KiB\n",
      "22/10/04 22:51:40 WARN DAGScheduler: Broadcasting large task binary with size 1525.6 KiB\n",
      "22/10/04 22:51:40 WARN DAGScheduler: Broadcasting large task binary with size 1662.4 KiB\n",
      "22/10/04 22:51:40 WARN DAGScheduler: Broadcasting large task binary with size 1664.1 KiB\n",
      "22/10/04 22:51:41 WARN DAGScheduler: Broadcasting large task binary with size 1664.1 KiB\n",
      "22/10/04 22:51:41 WARN DAGScheduler: Broadcasting large task binary with size 1664.1 KiB\n",
      "22/10/04 22:51:41 WARN DAGScheduler: Broadcasting large task binary with size 1664.1 KiB\n",
      "22/10/04 22:51:41 WARN DAGScheduler: Broadcasting large task binary with size 1664.1 KiB\n",
      "22/10/04 22:51:41 WARN DAGScheduler: Broadcasting large task binary with size 1664.1 KiB\n",
      "22/10/04 22:51:42 WARN DAGScheduler: Broadcasting large task binary with size 1684.2 KiB\n",
      "22/10/04 22:51:43 WARN DAGScheduler: Broadcasting large task binary with size 1543.4 KiB\n",
      "22/10/04 22:51:43 WARN DAGScheduler: Broadcasting large task binary with size 1525.6 KiB\n",
      "22/10/04 22:51:43 WARN DAGScheduler: Broadcasting large task binary with size 1662.4 KiB\n",
      "22/10/04 22:51:44 WARN DAGScheduler: Broadcasting large task binary with size 1664.1 KiB\n",
      "22/10/04 22:51:44 WARN DAGScheduler: Broadcasting large task binary with size 1664.1 KiB\n",
      "22/10/04 22:51:44 WARN DAGScheduler: Broadcasting large task binary with size 1664.1 KiB\n",
      "22/10/04 22:51:44 WARN DAGScheduler: Broadcasting large task binary with size 1664.1 KiB\n",
      "22/10/04 22:51:44 WARN DAGScheduler: Broadcasting large task binary with size 1664.1 KiB\n",
      "22/10/04 22:51:45 WARN DAGScheduler: Broadcasting large task binary with size 1664.1 KiB\n",
      "22/10/04 22:51:45 WARN DAGScheduler: Broadcasting large task binary with size 1664.1 KiB\n",
      "22/10/04 22:51:45 WARN DAGScheduler: Broadcasting large task binary with size 1664.1 KiB\n",
      "22/10/04 22:51:45 WARN DAGScheduler: Broadcasting large task binary with size 1664.1 KiB\n",
      "22/10/04 22:51:45 WARN DAGScheduler: Broadcasting large task binary with size 1664.1 KiB\n",
      "22/10/04 22:51:46 WARN DAGScheduler: Broadcasting large task binary with size 1664.1 KiB\n",
      "22/10/04 22:51:46 WARN DAGScheduler: Broadcasting large task binary with size 1664.1 KiB\n",
      "22/10/04 22:51:46 WARN DAGScheduler: Broadcasting large task binary with size 1664.1 KiB\n",
      "22/10/04 22:51:46 WARN DAGScheduler: Broadcasting large task binary with size 1664.1 KiB\n",
      "22/10/04 22:51:46 WARN DAGScheduler: Broadcasting large task binary with size 1664.1 KiB\n",
      "22/10/04 22:51:46 WARN DAGScheduler: Broadcasting large task binary with size 1664.1 KiB\n",
      "22/10/04 22:51:47 WARN DAGScheduler: Broadcasting large task binary with size 1664.1 KiB\n",
      "22/10/04 22:51:47 WARN DAGScheduler: Broadcasting large task binary with size 1664.1 KiB\n",
      "22/10/04 22:51:47 WARN DAGScheduler: Broadcasting large task binary with size 1664.1 KiB\n",
      "22/10/04 22:51:47 WARN DAGScheduler: Broadcasting large task binary with size 1664.1 KiB\n",
      "22/10/04 22:51:47 WARN DAGScheduler: Broadcasting large task binary with size 1664.1 KiB\n",
      "22/10/04 22:51:47 WARN DAGScheduler: Broadcasting large task binary with size 1664.1 KiB\n",
      "22/10/04 22:51:48 WARN DAGScheduler: Broadcasting large task binary with size 1664.1 KiB\n",
      "22/10/04 22:51:48 WARN DAGScheduler: Broadcasting large task binary with size 1664.1 KiB\n",
      "22/10/04 22:51:49 WARN DAGScheduler: Broadcasting large task binary with size 1684.3 KiB\n",
      "22/10/04 22:51:50 WARN DAGScheduler: Broadcasting large task binary with size 1543.4 KiB\n"
     ]
    },
    {
     "name": "stderr",
     "output_type": "stream",
     "text": [
      "[Stage 924:>                                                        (0 + 1) / 1]\r"
     ]
    },
    {
     "name": "stdout",
     "output_type": "stream",
     "text": [
      "22/10/04 22:51:51 WARN DAGScheduler: Broadcasting large task binary with size 1525.6 KiB\n"
     ]
    },
    {
     "name": "stderr",
     "output_type": "stream",
     "text": [
      "                                                                                \r"
     ]
    },
    {
     "name": "stdout",
     "output_type": "stream",
     "text": [
      "22/10/04 22:51:52 WARN DAGScheduler: Broadcasting large task binary with size 1662.3 KiB\n",
      "22/10/04 22:51:52 WARN DAGScheduler: Broadcasting large task binary with size 1664.0 KiB\n",
      "22/10/04 22:51:53 WARN DAGScheduler: Broadcasting large task binary with size 1664.0 KiB\n",
      "22/10/04 22:51:53 WARN DAGScheduler: Broadcasting large task binary with size 1664.0 KiB\n",
      "22/10/04 22:51:53 WARN DAGScheduler: Broadcasting large task binary with size 1664.0 KiB\n",
      "22/10/04 22:51:53 WARN DAGScheduler: Broadcasting large task binary with size 1664.0 KiB\n",
      "22/10/04 22:51:54 WARN DAGScheduler: Broadcasting large task binary with size 1664.0 KiB\n",
      "22/10/04 22:51:55 WARN DAGScheduler: Broadcasting large task binary with size 1684.2 KiB\n",
      "22/10/04 22:51:57 WARN DAGScheduler: Broadcasting large task binary with size 1543.4 KiB\n"
     ]
    },
    {
     "name": "stderr",
     "output_type": "stream",
     "text": [
      "[Stage 942:>                                                        (0 + 1) / 1]\r"
     ]
    },
    {
     "name": "stdout",
     "output_type": "stream",
     "text": [
      "22/10/04 22:51:57 WARN DAGScheduler: Broadcasting large task binary with size 1525.6 KiB\n"
     ]
    },
    {
     "name": "stderr",
     "output_type": "stream",
     "text": [
      "                                                                                \r"
     ]
    },
    {
     "name": "stdout",
     "output_type": "stream",
     "text": [
      "22/10/04 22:51:58 WARN DAGScheduler: Broadcasting large task binary with size 1662.4 KiB\n"
     ]
    },
    {
     "name": "stderr",
     "output_type": "stream",
     "text": [
      "                                                                                \r"
     ]
    },
    {
     "name": "stdout",
     "output_type": "stream",
     "text": [
      "22/10/04 22:51:59 WARN DAGScheduler: Broadcasting large task binary with size 1664.0 KiB\n"
     ]
    },
    {
     "name": "stderr",
     "output_type": "stream",
     "text": [
      "                                                                                \r"
     ]
    },
    {
     "name": "stdout",
     "output_type": "stream",
     "text": [
      "22/10/04 22:52:00 WARN DAGScheduler: Broadcasting large task binary with size 1664.0 KiB\n",
      "22/10/04 22:52:00 WARN DAGScheduler: Broadcasting large task binary with size 1664.0 KiB\n",
      "22/10/04 22:52:01 WARN DAGScheduler: Broadcasting large task binary with size 1664.0 KiB\n",
      "22/10/04 22:52:01 WARN DAGScheduler: Broadcasting large task binary with size 1664.0 KiB\n",
      "22/10/04 22:52:01 WARN DAGScheduler: Broadcasting large task binary with size 1664.0 KiB\n",
      "22/10/04 22:52:02 WARN DAGScheduler: Broadcasting large task binary with size 1664.0 KiB\n",
      "22/10/04 22:52:02 WARN DAGScheduler: Broadcasting large task binary with size 1664.0 KiB\n",
      "22/10/04 22:52:02 WARN DAGScheduler: Broadcasting large task binary with size 1664.0 KiB\n",
      "22/10/04 22:52:03 WARN DAGScheduler: Broadcasting large task binary with size 1664.0 KiB\n",
      "22/10/04 22:52:03 WARN DAGScheduler: Broadcasting large task binary with size 1664.0 KiB\n",
      "22/10/04 22:52:03 WARN DAGScheduler: Broadcasting large task binary with size 1664.0 KiB\n",
      "22/10/04 22:52:04 WARN DAGScheduler: Broadcasting large task binary with size 1664.0 KiB\n",
      "22/10/04 22:52:04 WARN DAGScheduler: Broadcasting large task binary with size 1664.0 KiB\n",
      "22/10/04 22:52:04 WARN DAGScheduler: Broadcasting large task binary with size 1664.0 KiB\n",
      "22/10/04 22:52:05 WARN DAGScheduler: Broadcasting large task binary with size 1664.0 KiB\n",
      "22/10/04 22:52:05 WARN DAGScheduler: Broadcasting large task binary with size 1664.0 KiB\n",
      "22/10/04 22:52:05 WARN DAGScheduler: Broadcasting large task binary with size 1664.0 KiB\n",
      "22/10/04 22:52:06 WARN DAGScheduler: Broadcasting large task binary with size 1664.0 KiB\n",
      "22/10/04 22:52:06 WARN DAGScheduler: Broadcasting large task binary with size 1664.0 KiB\n",
      "22/10/04 22:52:06 WARN DAGScheduler: Broadcasting large task binary with size 1664.0 KiB\n",
      "22/10/04 22:52:06 WARN DAGScheduler: Broadcasting large task binary with size 1664.0 KiB\n",
      "22/10/04 22:52:07 WARN DAGScheduler: Broadcasting large task binary with size 1664.0 KiB\n",
      "22/10/04 22:52:07 WARN DAGScheduler: Broadcasting large task binary with size 1664.0 KiB\n",
      "22/10/04 22:52:08 WARN DAGScheduler: Broadcasting large task binary with size 1684.3 KiB\n"
     ]
    },
    {
     "name": "stderr",
     "output_type": "stream",
     "text": [
      "                                                                                \r"
     ]
    },
    {
     "name": "stdout",
     "output_type": "stream",
     "text": [
      "22/10/04 22:52:12 WARN DAGScheduler: Broadcasting large task binary with size 1545.7 KiB\n"
     ]
    },
    {
     "name": "stderr",
     "output_type": "stream",
     "text": [
      "[Stage 978:>                                                        (0 + 1) / 1]\r"
     ]
    },
    {
     "name": "stdout",
     "output_type": "stream",
     "text": [
      "22/10/04 22:52:14 WARN DAGScheduler: Broadcasting large task binary with size 1527.9 KiB\n"
     ]
    },
    {
     "name": "stderr",
     "output_type": "stream",
     "text": [
      "                                                                                \r"
     ]
    },
    {
     "name": "stdout",
     "output_type": "stream",
     "text": [
      "22/10/04 22:52:15 WARN DAGScheduler: Broadcasting large task binary with size 1664.9 KiB\n"
     ]
    },
    {
     "name": "stderr",
     "output_type": "stream",
     "text": [
      "                                                                                \r"
     ]
    },
    {
     "name": "stdout",
     "output_type": "stream",
     "text": [
      "22/10/04 22:52:16 WARN DAGScheduler: Broadcasting large task binary with size 1666.5 KiB\n"
     ]
    },
    {
     "name": "stderr",
     "output_type": "stream",
     "text": [
      "                                                                                \r"
     ]
    },
    {
     "name": "stdout",
     "output_type": "stream",
     "text": [
      "22/10/04 22:52:17 WARN DAGScheduler: Broadcasting large task binary with size 1666.5 KiB\n",
      "22/10/04 22:52:19 WARN DAGScheduler: Broadcasting large task binary with size 2004.7 KiB\n",
      "22/10/04 22:52:20 WARN DAGScheduler: Broadcasting large task binary with size 1545.7 KiB\n",
      "22/10/04 22:52:20 WARN DAGScheduler: Broadcasting large task binary with size 1527.9 KiB\n",
      "22/10/04 22:52:21 WARN DAGScheduler: Broadcasting large task binary with size 1664.9 KiB\n",
      "22/10/04 22:52:21 WARN DAGScheduler: Broadcasting large task binary with size 1666.6 KiB\n",
      "22/10/04 22:52:21 WARN DAGScheduler: Broadcasting large task binary with size 1666.6 KiB\n",
      "22/10/04 22:52:21 WARN DAGScheduler: Broadcasting large task binary with size 1666.6 KiB\n",
      "22/10/04 22:52:21 WARN DAGScheduler: Broadcasting large task binary with size 1666.6 KiB\n",
      "22/10/04 22:52:21 WARN DAGScheduler: Broadcasting large task binary with size 1666.6 KiB\n",
      "22/10/04 22:52:22 WARN DAGScheduler: Broadcasting large task binary with size 1666.6 KiB\n",
      "22/10/04 22:52:22 WARN DAGScheduler: Broadcasting large task binary with size 1666.6 KiB\n",
      "22/10/04 22:52:22 WARN DAGScheduler: Broadcasting large task binary with size 1666.6 KiB\n",
      "22/10/04 22:52:22 WARN DAGScheduler: Broadcasting large task binary with size 1666.6 KiB\n",
      "22/10/04 22:52:22 WARN DAGScheduler: Broadcasting large task binary with size 1666.6 KiB\n",
      "22/10/04 22:52:23 WARN DAGScheduler: Broadcasting large task binary with size 1666.6 KiB\n",
      "22/10/04 22:52:23 WARN DAGScheduler: Broadcasting large task binary with size 2004.7 KiB\n",
      "22/10/04 22:52:24 WARN DAGScheduler: Broadcasting large task binary with size 1545.7 KiB\n",
      "22/10/04 22:52:25 WARN DAGScheduler: Broadcasting large task binary with size 1527.9 KiB\n",
      "22/10/04 22:52:25 WARN DAGScheduler: Broadcasting large task binary with size 1664.8 KiB\n"
     ]
    },
    {
     "name": "stderr",
     "output_type": "stream",
     "text": [
      "                                                                                \r"
     ]
    },
    {
     "name": "stdout",
     "output_type": "stream",
     "text": [
      "22/10/04 22:52:26 WARN DAGScheduler: Broadcasting large task binary with size 1666.4 KiB\n",
      "22/10/04 22:52:26 WARN DAGScheduler: Broadcasting large task binary with size 1666.4 KiB\n",
      "22/10/04 22:52:26 WARN DAGScheduler: Broadcasting large task binary with size 1666.4 KiB\n",
      "22/10/04 22:52:27 WARN DAGScheduler: Broadcasting large task binary with size 1666.4 KiB\n",
      "22/10/04 22:52:27 WARN DAGScheduler: Broadcasting large task binary with size 1666.4 KiB\n",
      "22/10/04 22:52:27 WARN DAGScheduler: Broadcasting large task binary with size 1794.4 KiB\n",
      "22/10/04 22:52:28 WARN DAGScheduler: Broadcasting large task binary with size 1545.7 KiB\n",
      "22/10/04 22:52:29 WARN DAGScheduler: Broadcasting large task binary with size 1527.9 KiB\n",
      "22/10/04 22:52:29 WARN DAGScheduler: Broadcasting large task binary with size 1664.8 KiB\n",
      "22/10/04 22:52:29 WARN DAGScheduler: Broadcasting large task binary with size 1666.5 KiB\n",
      "22/10/04 22:52:29 WARN DAGScheduler: Broadcasting large task binary with size 1666.5 KiB\n",
      "22/10/04 22:52:30 WARN DAGScheduler: Broadcasting large task binary with size 1666.5 KiB\n",
      "22/10/04 22:52:30 WARN DAGScheduler: Broadcasting large task binary with size 1666.5 KiB\n",
      "22/10/04 22:52:30 WARN DAGScheduler: Broadcasting large task binary with size 1666.5 KiB\n",
      "22/10/04 22:52:30 WARN DAGScheduler: Broadcasting large task binary with size 1666.5 KiB\n",
      "22/10/04 22:52:31 WARN DAGScheduler: Broadcasting large task binary with size 1666.5 KiB\n",
      "22/10/04 22:52:31 WARN DAGScheduler: Broadcasting large task binary with size 1666.5 KiB\n",
      "22/10/04 22:52:31 WARN DAGScheduler: Broadcasting large task binary with size 1666.5 KiB\n",
      "22/10/04 22:52:31 WARN DAGScheduler: Broadcasting large task binary with size 1666.5 KiB\n",
      "22/10/04 22:52:31 WARN DAGScheduler: Broadcasting large task binary with size 1666.5 KiB\n",
      "22/10/04 22:52:32 WARN DAGScheduler: Broadcasting large task binary with size 1666.5 KiB\n",
      "22/10/04 22:52:32 WARN DAGScheduler: Broadcasting large task binary with size 1666.5 KiB\n",
      "22/10/04 22:52:32 WARN DAGScheduler: Broadcasting large task binary with size 1666.5 KiB\n",
      "22/10/04 22:52:33 WARN DAGScheduler: Broadcasting large task binary with size 1752.6 KiB\n",
      "22/10/04 22:52:35 WARN DAGScheduler: Broadcasting large task binary with size 1545.7 KiB\n",
      "22/10/04 22:52:35 WARN DAGScheduler: Broadcasting large task binary with size 1527.9 KiB\n",
      "22/10/04 22:52:35 WARN DAGScheduler: Broadcasting large task binary with size 1664.9 KiB\n",
      "22/10/04 22:52:36 WARN DAGScheduler: Broadcasting large task binary with size 1666.5 KiB\n",
      "22/10/04 22:52:36 WARN DAGScheduler: Broadcasting large task binary with size 1666.5 KiB\n",
      "22/10/04 22:52:36 WARN DAGScheduler: Broadcasting large task binary with size 1666.5 KiB\n",
      "22/10/04 22:52:36 WARN DAGScheduler: Broadcasting large task binary with size 1666.5 KiB\n",
      "22/10/04 22:52:36 WARN DAGScheduler: Broadcasting large task binary with size 1666.5 KiB\n",
      "22/10/04 22:52:37 WARN DAGScheduler: Broadcasting large task binary with size 1687.2 KiB\n",
      "22/10/04 22:52:39 WARN DAGScheduler: Broadcasting large task binary with size 1545.7 KiB\n",
      "22/10/04 22:52:39 WARN DAGScheduler: Broadcasting large task binary with size 1527.9 KiB\n",
      "22/10/04 22:52:39 WARN DAGScheduler: Broadcasting large task binary with size 1664.9 KiB\n",
      "22/10/04 22:52:40 WARN DAGScheduler: Broadcasting large task binary with size 1666.6 KiB\n",
      "22/10/04 22:52:40 WARN DAGScheduler: Broadcasting large task binary with size 1666.6 KiB\n",
      "22/10/04 22:52:40 WARN DAGScheduler: Broadcasting large task binary with size 1666.6 KiB\n",
      "22/10/04 22:52:41 WARN DAGScheduler: Broadcasting large task binary with size 1666.6 KiB\n",
      "22/10/04 22:52:41 WARN DAGScheduler: Broadcasting large task binary with size 1666.6 KiB\n",
      "22/10/04 22:52:41 WARN DAGScheduler: Broadcasting large task binary with size 1666.6 KiB\n",
      "22/10/04 22:52:41 WARN DAGScheduler: Broadcasting large task binary with size 1666.6 KiB\n",
      "22/10/04 22:52:42 WARN DAGScheduler: Broadcasting large task binary with size 1666.6 KiB\n",
      "22/10/04 22:52:42 WARN DAGScheduler: Broadcasting large task binary with size 1666.6 KiB\n",
      "22/10/04 22:52:42 WARN DAGScheduler: Broadcasting large task binary with size 1666.6 KiB\n",
      "22/10/04 22:52:42 WARN DAGScheduler: Broadcasting large task binary with size 1666.6 KiB\n",
      "22/10/04 22:52:42 WARN DAGScheduler: Broadcasting large task binary with size 1666.6 KiB\n",
      "22/10/04 22:52:43 WARN DAGScheduler: Broadcasting large task binary with size 1666.6 KiB\n",
      "22/10/04 22:52:43 WARN DAGScheduler: Broadcasting large task binary with size 1666.6 KiB\n",
      "22/10/04 22:52:44 WARN DAGScheduler: Broadcasting large task binary with size 1687.1 KiB\n",
      "22/10/04 22:52:45 WARN DAGScheduler: Broadcasting large task binary with size 1545.7 KiB\n",
      "22/10/04 22:52:45 WARN DAGScheduler: Broadcasting large task binary with size 1527.9 KiB\n",
      "22/10/04 22:52:45 WARN DAGScheduler: Broadcasting large task binary with size 1664.9 KiB\n",
      "22/10/04 22:52:46 WARN DAGScheduler: Broadcasting large task binary with size 1666.6 KiB\n",
      "22/10/04 22:52:46 WARN DAGScheduler: Broadcasting large task binary with size 1666.6 KiB\n",
      "22/10/04 22:52:47 WARN DAGScheduler: Broadcasting large task binary with size 2004.7 KiB\n",
      "22/10/04 22:52:48 WARN DAGScheduler: Broadcasting large task binary with size 1545.7 KiB\n",
      "22/10/04 22:52:48 WARN DAGScheduler: Broadcasting large task binary with size 1527.9 KiB\n",
      "22/10/04 22:52:48 WARN DAGScheduler: Broadcasting large task binary with size 1664.9 KiB\n",
      "22/10/04 22:52:49 WARN DAGScheduler: Broadcasting large task binary with size 1666.6 KiB\n",
      "22/10/04 22:52:49 WARN DAGScheduler: Broadcasting large task binary with size 1666.6 KiB\n",
      "22/10/04 22:52:50 WARN DAGScheduler: Broadcasting large task binary with size 1666.6 KiB\n",
      "22/10/04 22:52:50 WARN DAGScheduler: Broadcasting large task binary with size 1666.6 KiB\n",
      "22/10/04 22:52:50 WARN DAGScheduler: Broadcasting large task binary with size 1666.6 KiB\n",
      "22/10/04 22:52:50 WARN DAGScheduler: Broadcasting large task binary with size 1666.6 KiB\n",
      "22/10/04 22:52:50 WARN DAGScheduler: Broadcasting large task binary with size 1666.6 KiB\n",
      "22/10/04 22:52:50 WARN DAGScheduler: Broadcasting large task binary with size 1666.6 KiB\n",
      "22/10/04 22:52:50 WARN DAGScheduler: Broadcasting large task binary with size 1666.6 KiB\n",
      "22/10/04 22:52:50 WARN DAGScheduler: Broadcasting large task binary with size 1666.6 KiB\n",
      "22/10/04 22:52:51 WARN DAGScheduler: Broadcasting large task binary with size 1666.6 KiB\n",
      "22/10/04 22:52:51 WARN DAGScheduler: Broadcasting large task binary with size 2004.7 KiB\n",
      "22/10/04 22:52:52 WARN DAGScheduler: Broadcasting large task binary with size 1545.7 KiB\n",
      "22/10/04 22:52:52 WARN DAGScheduler: Broadcasting large task binary with size 1527.9 KiB\n",
      "22/10/04 22:52:53 WARN DAGScheduler: Broadcasting large task binary with size 1664.8 KiB\n",
      "22/10/04 22:52:53 WARN DAGScheduler: Broadcasting large task binary with size 1666.5 KiB\n",
      "22/10/04 22:52:53 WARN DAGScheduler: Broadcasting large task binary with size 1666.5 KiB\n",
      "22/10/04 22:52:53 WARN DAGScheduler: Broadcasting large task binary with size 1666.5 KiB\n",
      "22/10/04 22:52:54 WARN DAGScheduler: Broadcasting large task binary with size 1666.5 KiB\n",
      "22/10/04 22:52:54 WARN DAGScheduler: Broadcasting large task binary with size 1666.5 KiB\n",
      "22/10/04 22:52:54 WARN DAGScheduler: Broadcasting large task binary with size 1666.5 KiB\n",
      "22/10/04 22:52:54 WARN DAGScheduler: Broadcasting large task binary with size 1686.8 KiB\n",
      "22/10/04 22:52:56 WARN DAGScheduler: Broadcasting large task binary with size 1545.7 KiB\n",
      "22/10/04 22:52:56 WARN DAGScheduler: Broadcasting large task binary with size 1527.9 KiB\n",
      "22/10/04 22:52:57 WARN DAGScheduler: Broadcasting large task binary with size 1664.8 KiB\n",
      "22/10/04 22:52:57 WARN DAGScheduler: Broadcasting large task binary with size 1666.4 KiB\n",
      "22/10/04 22:52:58 WARN DAGScheduler: Broadcasting large task binary with size 1666.4 KiB\n",
      "22/10/04 22:52:58 WARN DAGScheduler: Broadcasting large task binary with size 1666.4 KiB\n",
      "22/10/04 22:52:58 WARN DAGScheduler: Broadcasting large task binary with size 1666.4 KiB\n",
      "22/10/04 22:52:59 WARN DAGScheduler: Broadcasting large task binary with size 1666.4 KiB\n",
      "22/10/04 22:52:59 WARN DAGScheduler: Broadcasting large task binary with size 1666.4 KiB\n",
      "22/10/04 22:53:00 WARN DAGScheduler: Broadcasting large task binary with size 1666.4 KiB\n",
      "22/10/04 22:53:00 WARN DAGScheduler: Broadcasting large task binary with size 1666.4 KiB\n",
      "22/10/04 22:53:00 WARN DAGScheduler: Broadcasting large task binary with size 1666.4 KiB\n",
      "22/10/04 22:53:00 WARN DAGScheduler: Broadcasting large task binary with size 1666.4 KiB\n",
      "22/10/04 22:53:01 WARN DAGScheduler: Broadcasting large task binary with size 1666.4 KiB\n",
      "22/10/04 22:53:01 WARN DAGScheduler: Broadcasting large task binary with size 1666.4 KiB\n",
      "22/10/04 22:53:01 WARN DAGScheduler: Broadcasting large task binary with size 1666.4 KiB\n",
      "22/10/04 22:53:02 WARN DAGScheduler: Broadcasting large task binary with size 1666.4 KiB\n",
      "22/10/04 22:53:02 WARN DAGScheduler: Broadcasting large task binary with size 1666.4 KiB\n",
      "22/10/04 22:53:02 WARN DAGScheduler: Broadcasting large task binary with size 1666.4 KiB\n",
      "22/10/04 22:53:03 WARN DAGScheduler: Broadcasting large task binary with size 1666.4 KiB\n",
      "22/10/04 22:53:03 WARN DAGScheduler: Broadcasting large task binary with size 1666.4 KiB\n",
      "22/10/04 22:53:03 WARN DAGScheduler: Broadcasting large task binary with size 1666.4 KiB\n",
      "22/10/04 22:53:03 WARN DAGScheduler: Broadcasting large task binary with size 1666.4 KiB\n",
      "22/10/04 22:53:04 WARN DAGScheduler: Broadcasting large task binary with size 1666.4 KiB\n",
      "22/10/04 22:53:04 WARN DAGScheduler: Broadcasting large task binary with size 1666.4 KiB\n",
      "22/10/04 22:53:04 WARN DAGScheduler: Broadcasting large task binary with size 1666.4 KiB\n",
      "22/10/04 22:53:05 WARN DAGScheduler: Broadcasting large task binary with size 1666.4 KiB\n",
      "22/10/04 22:53:07 WARN DAGScheduler: Broadcasting large task binary with size 1686.9 KiB\n",
      "22/10/04 22:53:08 WARN DAGScheduler: Broadcasting large task binary with size 1545.7 KiB\n",
      "22/10/04 22:53:09 WARN DAGScheduler: Broadcasting large task binary with size 1527.9 KiB\n",
      "22/10/04 22:53:09 WARN DAGScheduler: Broadcasting large task binary with size 1664.9 KiB\n",
      "22/10/04 22:53:09 WARN DAGScheduler: Broadcasting large task binary with size 1666.5 KiB\n",
      "22/10/04 22:53:10 WARN DAGScheduler: Broadcasting large task binary with size 1666.5 KiB\n",
      "22/10/04 22:53:10 WARN DAGScheduler: Broadcasting large task binary with size 1666.5 KiB\n",
      "22/10/04 22:53:10 WARN DAGScheduler: Broadcasting large task binary with size 1666.5 KiB\n",
      "22/10/04 22:53:10 WARN DAGScheduler: Broadcasting large task binary with size 1666.5 KiB\n",
      "22/10/04 22:53:10 WARN DAGScheduler: Broadcasting large task binary with size 1666.5 KiB\n",
      "22/10/04 22:53:11 WARN DAGScheduler: Broadcasting large task binary with size 1686.8 KiB\n",
      "22/10/04 22:53:12 WARN DAGScheduler: Broadcasting large task binary with size 1545.7 KiB\n",
      "22/10/04 22:53:13 WARN DAGScheduler: Broadcasting large task binary with size 1527.9 KiB\n",
      "22/10/04 22:53:13 WARN DAGScheduler: Broadcasting large task binary with size 1664.8 KiB\n",
      "22/10/04 22:53:13 WARN DAGScheduler: Broadcasting large task binary with size 1666.5 KiB\n",
      "22/10/04 22:53:14 WARN DAGScheduler: Broadcasting large task binary with size 1666.5 KiB\n",
      "22/10/04 22:53:14 WARN DAGScheduler: Broadcasting large task binary with size 1666.5 KiB\n",
      "22/10/04 22:53:14 WARN DAGScheduler: Broadcasting large task binary with size 1666.5 KiB\n",
      "22/10/04 22:53:14 WARN DAGScheduler: Broadcasting large task binary with size 1666.5 KiB\n",
      "22/10/04 22:53:14 WARN DAGScheduler: Broadcasting large task binary with size 1666.5 KiB\n",
      "22/10/04 22:53:14 WARN DAGScheduler: Broadcasting large task binary with size 1666.5 KiB\n",
      "22/10/04 22:53:14 WARN DAGScheduler: Broadcasting large task binary with size 1666.5 KiB\n",
      "22/10/04 22:53:14 WARN DAGScheduler: Broadcasting large task binary with size 1666.5 KiB\n",
      "22/10/04 22:53:15 WARN DAGScheduler: Broadcasting large task binary with size 1666.5 KiB\n",
      "22/10/04 22:53:15 WARN DAGScheduler: Broadcasting large task binary with size 1666.5 KiB\n",
      "22/10/04 22:53:15 WARN DAGScheduler: Broadcasting large task binary with size 1666.5 KiB\n",
      "22/10/04 22:53:15 WARN DAGScheduler: Broadcasting large task binary with size 1666.5 KiB\n",
      "22/10/04 22:53:15 WARN DAGScheduler: Broadcasting large task binary with size 1666.5 KiB\n",
      "22/10/04 22:53:16 WARN DAGScheduler: Broadcasting large task binary with size 1666.5 KiB\n",
      "22/10/04 22:53:16 WARN DAGScheduler: Broadcasting large task binary with size 1666.5 KiB\n",
      "22/10/04 22:53:16 WARN DAGScheduler: Broadcasting large task binary with size 1666.5 KiB\n",
      "22/10/04 22:53:16 WARN DAGScheduler: Broadcasting large task binary with size 1666.5 KiB\n",
      "22/10/04 22:53:17 WARN DAGScheduler: Broadcasting large task binary with size 1666.5 KiB\n",
      "22/10/04 22:53:17 WARN DAGScheduler: Broadcasting large task binary with size 1666.5 KiB\n",
      "22/10/04 22:53:17 WARN DAGScheduler: Broadcasting large task binary with size 1666.5 KiB\n",
      "22/10/04 22:53:17 WARN DAGScheduler: Broadcasting large task binary with size 1666.5 KiB\n",
      "22/10/04 22:53:18 WARN DAGScheduler: Broadcasting large task binary with size 1666.5 KiB\n",
      "22/10/04 22:53:18 WARN DAGScheduler: Broadcasting large task binary with size 1666.5 KiB\n",
      "22/10/04 22:53:19 WARN DAGScheduler: Broadcasting large task binary with size 1686.9 KiB\n",
      "22/10/04 22:53:21 WARN DAGScheduler: Broadcasting large task binary with size 1545.7 KiB\n",
      "22/10/04 22:53:21 WARN DAGScheduler: Broadcasting large task binary with size 1527.9 KiB\n",
      "22/10/04 22:53:22 WARN DAGScheduler: Broadcasting large task binary with size 1664.9 KiB\n"
     ]
    },
    {
     "name": "stderr",
     "output_type": "stream",
     "text": [
      "                                                                                \r"
     ]
    },
    {
     "name": "stdout",
     "output_type": "stream",
     "text": [
      "22/10/04 22:53:22 WARN DAGScheduler: Broadcasting large task binary with size 1666.6 KiB\n",
      "22/10/04 22:53:23 WARN DAGScheduler: Broadcasting large task binary with size 1666.6 KiB\n",
      "22/10/04 22:53:23 WARN DAGScheduler: Broadcasting large task binary with size 1666.6 KiB\n",
      "22/10/04 22:53:24 WARN DAGScheduler: Broadcasting large task binary with size 2004.7 KiB\n",
      "22/10/04 22:53:25 WARN DAGScheduler: Broadcasting large task binary with size 1545.7 KiB\n",
      "22/10/04 22:53:25 WARN DAGScheduler: Broadcasting large task binary with size 1527.9 KiB\n",
      "22/10/04 22:53:25 WARN DAGScheduler: Broadcasting large task binary with size 1664.9 KiB\n",
      "22/10/04 22:53:25 WARN DAGScheduler: Broadcasting large task binary with size 1666.6 KiB\n",
      "22/10/04 22:53:26 WARN DAGScheduler: Broadcasting large task binary with size 1666.6 KiB\n",
      "22/10/04 22:53:26 WARN DAGScheduler: Broadcasting large task binary with size 1666.6 KiB\n",
      "22/10/04 22:53:26 WARN DAGScheduler: Broadcasting large task binary with size 1666.6 KiB\n",
      "22/10/04 22:53:26 WARN DAGScheduler: Broadcasting large task binary with size 1666.6 KiB\n",
      "22/10/04 22:53:26 WARN DAGScheduler: Broadcasting large task binary with size 1666.6 KiB\n",
      "22/10/04 22:53:26 WARN DAGScheduler: Broadcasting large task binary with size 1666.6 KiB\n",
      "22/10/04 22:53:26 WARN DAGScheduler: Broadcasting large task binary with size 1666.6 KiB\n",
      "22/10/04 22:53:26 WARN DAGScheduler: Broadcasting large task binary with size 1666.6 KiB\n",
      "22/10/04 22:53:26 WARN DAGScheduler: Broadcasting large task binary with size 1666.6 KiB\n",
      "22/10/04 22:53:26 WARN DAGScheduler: Broadcasting large task binary with size 1666.6 KiB\n",
      "22/10/04 22:53:26 WARN DAGScheduler: Broadcasting large task binary with size 1666.6 KiB\n",
      "22/10/04 22:53:27 WARN DAGScheduler: Broadcasting large task binary with size 1666.6 KiB\n",
      "22/10/04 22:53:27 WARN DAGScheduler: Broadcasting large task binary with size 2004.7 KiB\n",
      "22/10/04 22:53:28 WARN DAGScheduler: Broadcasting large task binary with size 1545.7 KiB\n",
      "22/10/04 22:53:29 WARN DAGScheduler: Broadcasting large task binary with size 1527.9 KiB\n",
      "22/10/04 22:53:29 WARN DAGScheduler: Broadcasting large task binary with size 1665.0 KiB\n",
      "22/10/04 22:53:29 WARN DAGScheduler: Broadcasting large task binary with size 1666.7 KiB\n",
      "22/10/04 22:53:29 WARN DAGScheduler: Broadcasting large task binary with size 1666.7 KiB\n",
      "22/10/04 22:53:29 WARN DAGScheduler: Broadcasting large task binary with size 1666.7 KiB\n",
      "22/10/04 22:53:30 WARN DAGScheduler: Broadcasting large task binary with size 1666.7 KiB\n",
      "22/10/04 22:53:30 WARN DAGScheduler: Broadcasting large task binary with size 1666.7 KiB\n",
      "22/10/04 22:53:30 WARN DAGScheduler: Broadcasting large task binary with size 1666.7 KiB\n",
      "22/10/04 22:53:31 WARN DAGScheduler: Broadcasting large task binary with size 1686.8 KiB\n",
      "22/10/04 22:53:32 WARN DAGScheduler: Broadcasting large task binary with size 1545.7 KiB\n",
      "22/10/04 22:53:32 WARN DAGScheduler: Broadcasting large task binary with size 1527.9 KiB\n",
      "22/10/04 22:53:32 WARN DAGScheduler: Broadcasting large task binary with size 1664.8 KiB\n",
      "22/10/04 22:53:32 WARN DAGScheduler: Broadcasting large task binary with size 1666.5 KiB\n",
      "22/10/04 22:53:32 WARN DAGScheduler: Broadcasting large task binary with size 1666.5 KiB\n",
      "22/10/04 22:53:33 WARN DAGScheduler: Broadcasting large task binary with size 1666.5 KiB\n",
      "22/10/04 22:53:33 WARN DAGScheduler: Broadcasting large task binary with size 1666.5 KiB\n",
      "22/10/04 22:53:33 WARN DAGScheduler: Broadcasting large task binary with size 1666.5 KiB\n",
      "22/10/04 22:53:33 WARN DAGScheduler: Broadcasting large task binary with size 1666.5 KiB\n",
      "22/10/04 22:53:33 WARN DAGScheduler: Broadcasting large task binary with size 1666.5 KiB\n",
      "22/10/04 22:53:33 WARN DAGScheduler: Broadcasting large task binary with size 1666.5 KiB\n",
      "22/10/04 22:53:33 WARN DAGScheduler: Broadcasting large task binary with size 1666.5 KiB\n",
      "22/10/04 22:53:33 WARN DAGScheduler: Broadcasting large task binary with size 1666.5 KiB\n",
      "22/10/04 22:53:33 WARN DAGScheduler: Broadcasting large task binary with size 1666.5 KiB\n",
      "22/10/04 22:53:34 WARN DAGScheduler: Broadcasting large task binary with size 1666.5 KiB\n",
      "22/10/04 22:53:34 WARN DAGScheduler: Broadcasting large task binary with size 1666.5 KiB\n",
      "22/10/04 22:53:34 WARN DAGScheduler: Broadcasting large task binary with size 1666.5 KiB\n",
      "22/10/04 22:53:34 WARN DAGScheduler: Broadcasting large task binary with size 1666.5 KiB\n",
      "22/10/04 22:53:34 WARN DAGScheduler: Broadcasting large task binary with size 1666.5 KiB\n",
      "22/10/04 22:53:34 WARN DAGScheduler: Broadcasting large task binary with size 1666.5 KiB\n",
      "22/10/04 22:53:34 WARN DAGScheduler: Broadcasting large task binary with size 1666.5 KiB\n",
      "22/10/04 22:53:34 WARN DAGScheduler: Broadcasting large task binary with size 1666.5 KiB\n",
      "22/10/04 22:53:35 WARN DAGScheduler: Broadcasting large task binary with size 1666.5 KiB\n",
      "22/10/04 22:53:35 WARN DAGScheduler: Broadcasting large task binary with size 1666.5 KiB\n",
      "22/10/04 22:53:35 WARN DAGScheduler: Broadcasting large task binary with size 1666.5 KiB\n",
      "22/10/04 22:53:35 WARN DAGScheduler: Broadcasting large task binary with size 1666.5 KiB\n",
      "22/10/04 22:53:35 WARN DAGScheduler: Broadcasting large task binary with size 1666.5 KiB\n",
      "22/10/04 22:53:36 WARN DAGScheduler: Broadcasting large task binary with size 1686.9 KiB\n",
      "22/10/04 22:53:37 WARN DAGScheduler: Broadcasting large task binary with size 1545.7 KiB\n",
      "22/10/04 22:53:38 WARN DAGScheduler: Broadcasting large task binary with size 1527.9 KiB\n",
      "22/10/04 22:53:38 WARN DAGScheduler: Broadcasting large task binary with size 1664.9 KiB\n",
      "22/10/04 22:53:38 WARN DAGScheduler: Broadcasting large task binary with size 1666.5 KiB\n",
      "22/10/04 22:53:39 WARN DAGScheduler: Broadcasting large task binary with size 1666.5 KiB\n",
      "22/10/04 22:53:39 WARN DAGScheduler: Broadcasting large task binary with size 1666.5 KiB\n",
      "22/10/04 22:53:39 WARN DAGScheduler: Broadcasting large task binary with size 1666.5 KiB\n",
      "22/10/04 22:53:39 WARN DAGScheduler: Broadcasting large task binary with size 1666.5 KiB\n",
      "22/10/04 22:53:39 WARN DAGScheduler: Broadcasting large task binary with size 1666.5 KiB\n",
      "22/10/04 22:53:40 WARN DAGScheduler: Broadcasting large task binary with size 1686.8 KiB\n",
      "22/10/04 22:53:41 WARN DAGScheduler: Broadcasting large task binary with size 1545.7 KiB\n",
      "22/10/04 22:53:41 WARN DAGScheduler: Broadcasting large task binary with size 1527.9 KiB\n",
      "22/10/04 22:53:41 WARN DAGScheduler: Broadcasting large task binary with size 1664.8 KiB\n",
      "22/10/04 22:53:42 WARN DAGScheduler: Broadcasting large task binary with size 1666.5 KiB\n",
      "22/10/04 22:53:42 WARN DAGScheduler: Broadcasting large task binary with size 1666.5 KiB\n",
      "22/10/04 22:53:42 WARN DAGScheduler: Broadcasting large task binary with size 1666.5 KiB\n",
      "22/10/04 22:53:42 WARN DAGScheduler: Broadcasting large task binary with size 1666.5 KiB\n",
      "22/10/04 22:53:42 WARN DAGScheduler: Broadcasting large task binary with size 1666.5 KiB\n",
      "22/10/04 22:53:43 WARN DAGScheduler: Broadcasting large task binary with size 1666.5 KiB\n",
      "22/10/04 22:53:43 WARN DAGScheduler: Broadcasting large task binary with size 1666.5 KiB\n",
      "22/10/04 22:53:43 WARN DAGScheduler: Broadcasting large task binary with size 1666.5 KiB\n",
      "22/10/04 22:53:43 WARN DAGScheduler: Broadcasting large task binary with size 1666.5 KiB\n",
      "22/10/04 22:53:43 WARN DAGScheduler: Broadcasting large task binary with size 1666.5 KiB\n",
      "22/10/04 22:53:43 WARN DAGScheduler: Broadcasting large task binary with size 1666.5 KiB\n",
      "22/10/04 22:53:43 WARN DAGScheduler: Broadcasting large task binary with size 1666.5 KiB\n",
      "22/10/04 22:53:44 WARN DAGScheduler: Broadcasting large task binary with size 1666.5 KiB\n",
      "22/10/04 22:53:44 WARN DAGScheduler: Broadcasting large task binary with size 1666.5 KiB\n",
      "22/10/04 22:53:44 WARN DAGScheduler: Broadcasting large task binary with size 1666.5 KiB\n",
      "22/10/04 22:53:44 WARN DAGScheduler: Broadcasting large task binary with size 1666.5 KiB\n",
      "22/10/04 22:53:44 WARN DAGScheduler: Broadcasting large task binary with size 1666.5 KiB\n",
      "22/10/04 22:53:44 WARN DAGScheduler: Broadcasting large task binary with size 1666.5 KiB\n",
      "22/10/04 22:53:44 WARN DAGScheduler: Broadcasting large task binary with size 1666.5 KiB\n",
      "22/10/04 22:53:44 WARN DAGScheduler: Broadcasting large task binary with size 1666.5 KiB\n",
      "22/10/04 22:53:45 WARN DAGScheduler: Broadcasting large task binary with size 1666.5 KiB\n",
      "22/10/04 22:53:45 WARN DAGScheduler: Broadcasting large task binary with size 1666.5 KiB\n",
      "22/10/04 22:53:45 WARN DAGScheduler: Broadcasting large task binary with size 1666.5 KiB\n",
      "22/10/04 22:53:45 WARN DAGScheduler: Broadcasting large task binary with size 1666.5 KiB\n",
      "22/10/04 22:53:46 WARN DAGScheduler: Broadcasting large task binary with size 1686.9 KiB\n",
      "22/10/04 22:53:47 WARN DAGScheduler: Broadcasting large task binary with size 2.0 MiB\n"
     ]
    },
    {
     "name": "stderr",
     "output_type": "stream",
     "text": [
      "[Stage 1394:>                                                       (0 + 1) / 1]\r"
     ]
    },
    {
     "name": "stdout",
     "output_type": "stream",
     "text": [
      "22/10/04 22:53:48 WARN DAGScheduler: Broadcasting large task binary with size 2.0 MiB\n"
     ]
    },
    {
     "name": "stderr",
     "output_type": "stream",
     "text": [
      "                                                                                \r"
     ]
    },
    {
     "name": "stdout",
     "output_type": "stream",
     "text": [
      "22/10/04 22:53:49 WARN DAGScheduler: Broadcasting large task binary with size 2.2 MiB\n",
      "22/10/04 22:53:49 WARN DAGScheduler: Broadcasting large task binary with size 2.2 MiB\n",
      "22/10/04 22:53:50 WARN DAGScheduler: Broadcasting large task binary with size 2.2 MiB\n",
      "22/10/04 22:53:50 WARN DAGScheduler: Broadcasting large task binary with size 2.2 MiB\n",
      "22/10/04 22:53:50 WARN DAGScheduler: Broadcasting large task binary with size 2.2 MiB\n",
      "22/10/04 22:53:50 WARN DAGScheduler: Broadcasting large task binary with size 2.2 MiB\n",
      "22/10/04 22:53:50 WARN DAGScheduler: Broadcasting large task binary with size 2.2 MiB\n",
      "22/10/04 22:53:50 WARN DAGScheduler: Broadcasting large task binary with size 2.2 MiB\n",
      "22/10/04 22:53:51 WARN DAGScheduler: Broadcasting large task binary with size 2.2 MiB\n",
      "22/10/04 22:53:51 WARN DAGScheduler: Broadcasting large task binary with size 2.2 MiB\n",
      "22/10/04 22:53:51 WARN DAGScheduler: Broadcasting large task binary with size 2.2 MiB\n",
      "22/10/04 22:53:51 WARN DAGScheduler: Broadcasting large task binary with size 2.2 MiB\n",
      "22/10/04 22:53:52 WARN DAGScheduler: Broadcasting large task binary with size 2.2 MiB\n",
      "22/10/04 22:53:52 WARN DAGScheduler: Broadcasting large task binary with size 2.2 MiB\n",
      "22/10/04 22:53:52 WARN DAGScheduler: Broadcasting large task binary with size 2.2 MiB\n",
      "5.693098632494609 minutes\n"
     ]
    }
   ],
   "source": [
    "# 15.4\n",
    "start = time.time()\n",
    "cvModel = cv.fit(train)\n",
    "end = time.time()\n",
    "print (((end-start)/60) , \"minutes\")"
   ]
  },
  {
   "cell_type": "code",
   "execution_count": 58,
   "id": "bdd463ec",
   "metadata": {},
   "outputs": [],
   "source": [
    "#  Make predictions on test set here\n",
    "#      to evaluate accuracy of our model\n",
    "\n",
    "predictions = cvModel.transform(test)"
   ]
  },
  {
   "cell_type": "code",
   "execution_count": 60,
   "id": "52389ffd",
   "metadata": {},
   "outputs": [
    {
     "name": "stdout",
     "output_type": "stream",
     "text": [
      "22/10/04 22:54:47 WARN DAGScheduler: Broadcasting large task binary with size 2.3 MiB\n",
      "+-----+----------+--------------------+---------------+---------------+--------------------+\n",
      "|label|prediction|         probability|prevailing_wage|no_of_employees|       rawPrediction|\n",
      "+-----+----------+--------------------+---------------+---------------+--------------------+\n",
      "|  0.0|       0.0|[0.60777315013889...|       53635.39|           4985|[2.07900774226618...|\n",
      "|  0.0|       0.0|[0.75464505400843...|       849.9988|           2344|[2.05927533435106...|\n",
      "|  0.0|       0.0|[0.53567267775383...|       14130.76|            163|[1.97943974149876...|\n",
      "+-----+----------+--------------------+---------------+---------------+--------------------+\n",
      "only showing top 3 rows\n",
      "\n"
     ]
    }
   ],
   "source": [
    "# View best model's predictions and probabilities of each prediction class\n",
    "\n",
    "selected = predictions.select(\"label\", \"prediction\", \"probability\", \"prevailing_wage\", \"no_of_employees\", \"rawPrediction\")\n",
    "selected.show(3)"
   ]
  },
  {
   "cell_type": "code",
   "execution_count": 65,
   "id": "89236241",
   "metadata": {},
   "outputs": [
    {
     "name": "stdout",
     "output_type": "stream",
     "text": [
      "22/10/04 22:56:01 WARN DAGScheduler: Broadcasting large task binary with size 2.3 MiB\n"
     ]
    },
    {
     "data": {
      "text/plain": [
       "0.7068490058439909"
      ]
     },
     "execution_count": 65,
     "metadata": {},
     "output_type": "execute_result"
    }
   ],
   "source": [
    "# Evaluate predictions\n",
    "\n",
    "evaluator =  MulticlassClassificationEvaluator()\n",
    "evaluator.evaluate(predictions)"
   ]
  },
  {
   "cell_type": "markdown",
   "id": "b9a326c0",
   "metadata": {},
   "source": [
    "## Split the dataset"
   ]
  },
  {
   "cell_type": "code",
   "execution_count": 22,
   "id": "0a0a16cc",
   "metadata": {},
   "outputs": [],
   "source": [
    "data[\"case_status\"] = data[\"case_status\"].apply(lambda x: 0 if x == \"Denied\" else 1)\n"
   ]
  },
  {
   "cell_type": "code",
   "execution_count": 23,
   "id": "40088171",
   "metadata": {},
   "outputs": [],
   "source": [
    "#Separating features and the target column\n",
    "X = data.drop(\"case_status\", axis=1)\n",
    "y = data[\"case_status\"]"
   ]
  },
  {
   "cell_type": "code",
   "execution_count": 24,
   "id": "99cd11f1",
   "metadata": {},
   "outputs": [],
   "source": [
    "X = pd.get_dummies(X, drop_first=True)\n"
   ]
  },
  {
   "cell_type": "code",
   "execution_count": 25,
   "id": "2a208ced",
   "metadata": {},
   "outputs": [],
   "source": [
    "#Splitting the data into train and test sets in 70:30 ratio\n",
    "X_train, X_test, y_train, y_test = train_test_split(X, y, test_size=0.30, random_state=1, stratify=y)\n"
   ]
  },
  {
   "cell_type": "code",
   "execution_count": 26,
   "id": "7f9f12a1",
   "metadata": {},
   "outputs": [
    {
     "data": {
      "text/plain": [
       "((17812, 25465), (7635, 25465))"
      ]
     },
     "execution_count": 26,
     "metadata": {},
     "output_type": "execute_result"
    }
   ],
   "source": [
    "X_train.shape, X_test.shape\n"
   ]
  },
  {
   "cell_type": "code",
   "execution_count": 27,
   "id": "e4380ca4",
   "metadata": {},
   "outputs": [
    {
     "data": {
      "text/plain": [
       "1    0.668094\n",
       "0    0.331906\n",
       "Name: case_status, dtype: float64"
      ]
     },
     "execution_count": 27,
     "metadata": {},
     "output_type": "execute_result"
    }
   ],
   "source": [
    "y.value_counts(1)\n"
   ]
  },
  {
   "cell_type": "code",
   "execution_count": 28,
   "id": "9ca1493f",
   "metadata": {},
   "outputs": [
    {
     "data": {
      "text/plain": [
       "1    0.668089\n",
       "0    0.331911\n",
       "Name: case_status, dtype: float64"
      ]
     },
     "execution_count": 28,
     "metadata": {},
     "output_type": "execute_result"
    }
   ],
   "source": [
    "y_train.value_counts(1)\n"
   ]
  },
  {
   "cell_type": "code",
   "execution_count": 29,
   "id": "d98087b6",
   "metadata": {},
   "outputs": [
    {
     "data": {
      "text/plain": [
       "1    0.668107\n",
       "0    0.331893\n",
       "Name: case_status, dtype: float64"
      ]
     },
     "execution_count": 29,
     "metadata": {},
     "output_type": "execute_result"
    }
   ],
   "source": [
    "y_test.value_counts(1)\n"
   ]
  },
  {
   "cell_type": "code",
   "execution_count": 30,
   "id": "c7c6d89c",
   "metadata": {},
   "outputs": [],
   "source": [
    "# defining a function to compute different metrics to check performance of a classification model built using sklearn\n",
    "def model_performance_classification_sklearn(model, predictors, target):\n",
    "    \"\"\"\n",
    "    Function to compute different metrics to check classification model performance\n",
    "\n",
    "    model: classifier\n",
    "    predictors: independent variables\n",
    "    target: dependent variable\n",
    "    \"\"\"\n",
    "\n",
    "    # predicting using the independent variables\n",
    "    pred = model.predict(predictors)\n",
    "\n",
    "    acc = accuracy_score(target, pred)  # to compute Accuracy\n",
    "    recall = recall_score(target, pred)  # to compute Recall\n",
    "    precision = precision_score(target, pred)  # to compute Precision\n",
    "    f1 = f1_score(target, pred)  # to compute F1-score\n",
    "\n",
    "    # creating a dataframe of metrics\n",
    "    df_perf = pd.DataFrame(\n",
    "        {\n",
    "            \"Accuracy\": acc,\n",
    "            \"Recall\": recall,\n",
    "            \"Precision\": precision,\n",
    "            \"F1\": f1,\n",
    "        },\n",
    "        index=[0],\n",
    "    )\n",
    "\n",
    "    return df_perf"
   ]
  },
  {
   "cell_type": "code",
   "execution_count": 31,
   "id": "f4dd7a98",
   "metadata": {},
   "outputs": [],
   "source": [
    "def confusion_matrix_sklearn(model, predictors, target):\n",
    "    \"\"\"\n",
    "    To plot the confusion_matrix with percentages\n",
    "\n",
    "    model: classifier\n",
    "    predictors: independent variables\n",
    "    target: dependent variable\n",
    "    \"\"\"\n",
    "    y_pred = model.predict(predictors)\n",
    "    cm = confusion_matrix(target, y_pred)\n",
    "    labels = np.asarray(\n",
    "        [\n",
    "            [\"{0:0.0f}\".format(item) + \"\\n{0:.2%}\".format(item / cm.flatten().sum())]\n",
    "            for item in cm.flatten()\n",
    "        ]\n",
    "    ).reshape(2, 2)\n",
    "\n",
    "    plt.figure(figsize=(6, 4))\n",
    "    sns.heatmap(cm, annot=labels, fmt=\"\")\n",
    "    plt.ylabel(\"True label\")\n",
    "    plt.xlabel(\"Predicted label\")"
   ]
  },
  {
   "cell_type": "markdown",
   "id": "d942826c",
   "metadata": {},
   "source": [
    "## Decision Tree Classifier\n"
   ]
  },
  {
   "cell_type": "code",
   "execution_count": 32,
   "id": "b20330fe",
   "metadata": {},
   "outputs": [
    {
     "name": "stdout",
     "output_type": "stream",
     "text": [
      "Training performance:\n",
      "    Accuracy  Recall  Precision   F1\n",
      "0       1.0     1.0        1.0  1.0\n",
      "Testing performance:\n",
      "    Accuracy    Recall  Precision        F1\n",
      "0  0.706352  0.810821   0.764086  0.786761\n"
     ]
    },
    {
     "data": {
      "image/png": "[encoded data removed]",
      "text/plain": [
       "<Figure size 432x288 with 2 Axes>"
      ]
     },
     "metadata": {
      "needs_background": "light"
     },
     "output_type": "display_data"
    }
   ],
   "source": [
    "#Fitting the model\n",
    "d_tree = DecisionTreeClassifier(random_state=1)\n",
    "d_tree.fit(X_train,y_train)\n",
    "\n",
    "#Calculating different metrics\n",
    "d_tree_model_train_perf=model_performance_classification_sklearn(d_tree,X_train,y_train)\n",
    "print(\"Training performance:\\n\",d_tree_model_train_perf)\n",
    "d_tree_model_test_perf=model_performance_classification_sklearn(d_tree,X_test,y_test)\n",
    "print(\"Testing performance:\\n\",d_tree_model_test_perf)\n",
    "\n",
    "#Creating confusion matrix\n",
    "confusion_matrix_sklearn(d_tree,X_test,y_test)"
   ]
  },
  {
   "cell_type": "markdown",
   "id": "45022014",
   "metadata": {},
   "source": [
    "## XGBoost Classifier"
   ]
  },
  {
   "cell_type": "code",
   "execution_count": null,
   "id": "35110f6b",
   "metadata": {},
   "outputs": [],
   "source": [
    "#Fitting the model\n",
    "xgb_classifier = XGBClassifier(random_state=1, eval_metric='logloss')\n",
    "xgb_classifier.fit(X_train,y_train)\n",
    "\n",
    "#Calculating different metrics\n",
    "xgb_classifier_model_train_perf=model_performance_classification_sklearn(xgb_classifier,X_train,y_train)\n",
    "print(\"Training performance:\\n\",xgb_classifier_model_train_perf)\n",
    "xgb_classifier_model_test_perf=model_performance_classification_sklearn(xgb_classifier,X_test,y_test)\n",
    "print(\"Testing performance:\\n\",xgb_classifier_model_test_perf)\n",
    "\n",
    "#Creating confusion matrix\n",
    "confusion_matrix_sklearn(xgb_classifier,X_test,y_test)"
   ]
  },
  {
   "cell_type": "code",
   "execution_count": null,
   "id": "a97bb35d",
   "metadata": {},
   "outputs": [],
   "source": []
  }
 ],
 "metadata": {
  "kernelspec": {
   "display_name": "Python 3 (ipykernel)",
   "language": "python",
   "name": "python3"
  },
  "language_info": {
   "codemirror_mode": {
    "name": "ipython",
    "version": 3
   },
   "file_extension": ".py",
   "mimetype": "text/x-python",
   "name": "python",
   "nbconvert_exporter": "python",
   "pygments_lexer": "ipython3",
   "version": "3.9.7"
  }
 },
 "nbformat": 4,
 "nbformat_minor": 5
}
